{
 "cells": [
  {
   "cell_type": "markdown",
   "metadata": {},
   "source": [
    "# PAIR PROGRAMMING - MODULO 3 - LECCION 09- ESTADISTICA INFERENCIAL"
   ]
  },
  {
   "cell_type": "code",
   "execution_count": 3,
   "metadata": {},
   "outputs": [],
   "source": [
    "# Importaciones necesarias\n",
    "# Tratamiento de datos\n",
    "import pandas as pd\n",
    "import numpy as np\n",
    "\n",
    "# Visualización\n",
    "import matplotlib.pyplot as plt\n",
    "import seaborn as sns\n",
    "\n",
    "# Evaluar linealidad de las relaciones entre las variables y la distribución de las variables\n",
    "import scipy.stats as stats\n",
    "from scipy.stats import shapiro, kstest, poisson, chisquare, expon\n",
    "from scipy import stats\n",
    "from scipy.stats import levene\n",
    "from scipy.stats import ttest_ind\n",
    "\n",
    "# Configuración\n",
    "pd.set_option('display.max_columns', None) # para poder visualizar todas las columnas de los DataFrames\n",
    "\n",
    "# Gestión de los warnings\n",
    "import warnings\n",
    "warnings.filterwarnings(\"ignore\")"
   ]
  },
  {
   "cell_type": "code",
   "execution_count": 4,
   "metadata": {},
   "outputs": [],
   "source": [
    "# Apertura del archivo\n",
    "df_pair9 = pd.read_csv(\"world_data_full_apply_nulos.csv\", index_col = 0)"
   ]
  },
  {
   "cell_type": "markdown",
   "metadata": {},
   "source": [
    "1. Evalúa si las siguientes afirmaciones corresponden a una distribución exponencial o poisson:"
   ]
  },
  {
   "cell_type": "markdown",
   "metadata": {},
   "source": [
    "1.1 ¿El tiempo que transcurre entre la llegada de autobuses a una parada sigue una distribución exponencial o de Poisson?"
   ]
  },
  {
   "cell_type": "code",
   "execution_count": 5,
   "metadata": {},
   "outputs": [],
   "source": [
    "# Tiempo entre la llegada de autobuses a una parada: Distribución Exponencial."
   ]
  },
  {
   "cell_type": "markdown",
   "metadata": {},
   "source": [
    "1.2 ¿El número de errores en un artículo de noticias sigue una distribución exponencial o de Poisson?"
   ]
  },
  {
   "cell_type": "code",
   "execution_count": 6,
   "metadata": {},
   "outputs": [],
   "source": [
    "# Número de errores en un artículo de noticias: Distribución Poisson."
   ]
  },
  {
   "cell_type": "markdown",
   "metadata": {},
   "source": [
    "1.3 ¿El tiempo que transcurre entre la llegada de solicitudes de servicio en un restaurante sigue una distribución exponencial o de Poisson?"
   ]
  },
  {
   "cell_type": "code",
   "execution_count": 7,
   "metadata": {},
   "outputs": [],
   "source": [
    "# Tiempo entre la llegada de solicitudes de servicio en un restaurante: Distribución Exponencial."
   ]
  },
  {
   "cell_type": "markdown",
   "metadata": {},
   "source": [
    "1.4 ¿El número de accidentes de tráfico en una hora en una ciudad sigue una distribución exponencial o de Poisson?"
   ]
  },
  {
   "cell_type": "code",
   "execution_count": 8,
   "metadata": {},
   "outputs": [],
   "source": [
    "# Número de accidentes de tráfico en una hora en una cuidad: Distribución Poisson."
   ]
  },
  {
   "cell_type": "markdown",
   "metadata": {},
   "source": [
    "1.5 ¿El tiempo entre llegadas de llamadas telefónicas a una central de emergencias sigue una distribución exponencial o de Poisson?"
   ]
  },
  {
   "cell_type": "code",
   "execution_count": 9,
   "metadata": {},
   "outputs": [],
   "source": [
    "# Tiempo entre llegadas telefonicas a una central de emergencias: Distribución Exponencial."
   ]
  },
  {
   "cell_type": "markdown",
   "metadata": {},
   "source": [
    "1.6 ¿El número de clientes que ingresan a una tienda en una hora sigue una distribución exponencial o de Poisson?"
   ]
  },
  {
   "cell_type": "code",
   "execution_count": 10,
   "metadata": {},
   "outputs": [],
   "source": [
    "# Número de clientes que ingresan a una tienda en una hora: Distribución Poisson."
   ]
  },
  {
   "cell_type": "markdown",
   "metadata": {},
   "source": [
    "1.7 ¿El tiempo entre llegadas de correos electrónicos en una bandeja de entrada sigue una distribución exponencial o de Poisson?"
   ]
  },
  {
   "cell_type": "code",
   "execution_count": 11,
   "metadata": {},
   "outputs": [],
   "source": [
    "# Tiempo entre llegadas de correos electrónicos en una bandeja de entrada: Distribución Exponencial."
   ]
  },
  {
   "cell_type": "markdown",
   "metadata": {},
   "source": [
    "\n",
    "1.8 ¿El número de defectos en una línea de producción por día sigue una distribución exponencial o de Poisson?"
   ]
  },
  {
   "cell_type": "code",
   "execution_count": 12,
   "metadata": {},
   "outputs": [],
   "source": [
    "# Número de defectos en una línea de producción por día: Distribución Poisson."
   ]
  },
  {
   "cell_type": "markdown",
   "metadata": {},
   "source": [
    "1.9 ¿El tiempo que transcurre entre la llegada de taxis en una parada sigue una distribución exponencial o de Poisson?"
   ]
  },
  {
   "cell_type": "code",
   "execution_count": 13,
   "metadata": {},
   "outputs": [],
   "source": [
    "# Tiempo que transcurre entre la llegada de taxis en una parada: Distribución Exponencial."
   ]
  },
  {
   "cell_type": "markdown",
   "metadata": {},
   "source": [
    "1.10 ¿El número de errores de ortografía en un libro de texto sigue una distribución exponencial o de Poisson?"
   ]
  },
  {
   "cell_type": "code",
   "execution_count": 14,
   "metadata": {},
   "outputs": [],
   "source": [
    "# Número de errores de ortografía en un libro de texto: Distribución Poisson."
   ]
  },
  {
   "cell_type": "markdown",
   "metadata": {},
   "source": [
    "2. Ejercicios intervalo de confianza. Piensa un motivo por el que sería interesante calcular estos intervalos de confianza para la extracción de insights."
   ]
  },
  {
   "cell_type": "code",
   "execution_count": 15,
   "metadata": {},
   "outputs": [
    {
     "data": {
      "text/plain": [
       "Index(['country', 'density', 'abbreviation', 'agricultural_land', 'land_area',\n",
       "       'armed_forces_size', 'birth_rate', 'calling_code', 'capital/major_city',\n",
       "       'co2-emissions', 'cpi', 'cpi_change', 'currency-code', 'fertility_rate',\n",
       "       'forested_area', 'gasoline_price', 'gdp',\n",
       "       'gross_primary_education_enrollment',\n",
       "       'gross_tertiary_education_enrollment', 'infant_mortality',\n",
       "       'largest_city', 'life_expectancy', 'maternal_mortality_ratio',\n",
       "       'minimum_wage', 'official_language', 'out_of_pocket_health_expenditure',\n",
       "       'physicians_per_thousand', 'population',\n",
       "       'population_labor_force_participation', 'tax_revenue', 'total_tax_rate',\n",
       "       'unemployment_rate', 'urban_population', 'latitude', 'longitude',\n",
       "       'continent'],\n",
       "      dtype='object')"
      ]
     },
     "execution_count": 15,
     "metadata": {},
     "output_type": "execute_result"
    }
   ],
   "source": [
    "df_pair9.columns"
   ]
  },
  {
   "cell_type": "markdown",
   "metadata": {},
   "source": [
    "2.1. Intervalo de Confianza para la Esperanza de Vida\n",
    "\n",
    "Contexto: Trabajas en una organización de salud global y deseas estimar el intervalo de confianza al 95% para la esperanza de vida promedio de cada continente.\n",
    "\n",
    "Nota: Cuidado porque puede que os salgan algunos nulos, genera un código para que no salgan nulos en los intervalos de confianza."
   ]
  },
  {
   "cell_type": "code",
   "execution_count": 16,
   "metadata": {},
   "outputs": [
    {
     "name": "stdout",
     "output_type": "stream",
     "text": [
      "\n",
      "CONTINENTE: Asia\n",
      "\n",
      "Intervalo de Confianza:\n",
      "Media Muestral: 73.78\n",
      "Error Estándar: 0.72\n",
      "Nivel de Confianza: 0.95\n",
      "Valor Crítico: 2.02\n",
      "Intervalo de Confianza: (72.32, 75.24)\n",
      "\n",
      "CONTINENTE: Europe\n",
      "\n",
      "Intervalo de Confianza:\n",
      "Media Muestral: 79.2\n",
      "Error Estándar: 0.55\n",
      "Nivel de Confianza: 0.95\n",
      "Valor Crítico: 2.02\n",
      "Intervalo de Confianza: (78.09, 80.32)\n",
      "\n",
      "CONTINENTE: Africa\n",
      "\n",
      "Intervalo de Confianza:\n",
      "Media Muestral: 63.73\n",
      "Error Estándar: 0.83\n",
      "Nivel de Confianza: 0.95\n",
      "Valor Crítico: 2.01\n",
      "Intervalo de Confianza: (62.05, 65.4)\n",
      "\n",
      "CONTINENTE: Central America\n",
      "\n",
      "Intervalo de Confianza:\n",
      "Media Muestral: 74.69\n",
      "Error Estándar: 0.79\n",
      "Nivel de Confianza: 0.95\n",
      "Valor Crítico: 2.09\n",
      "Intervalo de Confianza: (73.04, 76.34)\n",
      "\n",
      "CONTINENTE: South America\n",
      "\n",
      "Intervalo de Confianza:\n",
      "Media Muestral: 74.82\n",
      "Error Estándar: 0.84\n",
      "Nivel de Confianza: 0.95\n",
      "Valor Crítico: 2.18\n",
      "Intervalo de Confianza: (72.99, 76.64)\n",
      "\n",
      "CONTINENTE: Oceania\n",
      "\n",
      "Intervalo de Confianza:\n",
      "Media Muestral: 71.12\n",
      "Error Estándar: 1.69\n",
      "Nivel de Confianza: 0.95\n",
      "Valor Crítico: 2.2\n",
      "Intervalo de Confianza: (67.4, 74.85)\n",
      "\n",
      "CONTINENTE: North America\n",
      "\n",
      "Intervalo de Confianza:\n",
      "Media Muestral: 80.2\n",
      "Error Estándar: 1.7\n",
      "Nivel de Confianza: 0.95\n",
      "Valor Crítico: 12.71\n",
      "Intervalo de Confianza: (58.6, 101.8)\n",
      "\n",
      "CONTINENTE: nan\n",
      "\n",
      "Intervalo de Confianza:\n",
      "Media Muestral: nan\n",
      "Error Estándar: nan\n",
      "Nivel de Confianza: 0.95\n",
      "Valor Crítico: nan\n",
      "Intervalo de Confianza: (nan, nan)\n"
     ]
    }
   ],
   "source": [
    "for pais in df_pair9[\"continent\"].unique():\n",
    "    df_continente = df_pair9[df_pair9[\"continent\"] == pais]\n",
    "    \n",
    "    # Eliminar filas con valores nulos en la columna 'life_expectancy'\n",
    "    df_continente_sinnulos = df_continente.dropna(subset=['life_expectancy'])\n",
    "    \n",
    "    # Calcular la media y el error estándar en el DataFrame sin valores nulos\n",
    "    media = df_continente_sinnulos[\"life_expectancy\"].mean()\n",
    "    error = stats.sem(df_continente_sinnulos[\"life_expectancy\"])\n",
    "\n",
    "    # Definir el nivel de confianza (95% en este caso)\n",
    "    nivel_confianza = 0.95\n",
    "\n",
    "    # Calculamos los grados de libertad de la muestra.\n",
    "    grados_libertad = len(df_continente_sinnulos[\"life_expectancy\"]) - 1\n",
    "\n",
    "    # Calcular el valor crítico (utilizando la distribución t de Student)\n",
    "    valor_critico = stats.t.ppf((1 + nivel_confianza) / 2, df=grados_libertad)\n",
    "\n",
    "    # Calcular el intervalo de confianza\n",
    "    limite_inferior = media - valor_critico * error\n",
    "    limite_superior = media + valor_critico * error\n",
    "\n",
    "    print(f\"\\nCONTINENTE: {pais}\\n\")\n",
    "    print(\"Intervalo de Confianza:\")\n",
    "    print(f\"Media Muestral: {np.round(media, 2)}\")\n",
    "    print(f\"Error Estándar: {np.round(error, 2)}\")\n",
    "    print(f\"Nivel de Confianza: {nivel_confianza}\")\n",
    "    print(f\"Valor Crítico: {np.round(valor_critico, 2)}\")\n",
    "    print(f\"Intervalo de Confianza: ({np.round(limite_inferior, 2)}, {np.round(limite_superior, 2)})\")\n"
   ]
  },
  {
   "cell_type": "code",
   "execution_count": 17,
   "metadata": {},
   "outputs": [],
   "source": [
    "# Explicación: obtención del calculo de intervalo de confianza para la esperanza de vida de cada continente. Vemos en que continentes la esperaza de vida global presentan un rango más ajustado. "
   ]
  },
  {
   "cell_type": "markdown",
   "metadata": {},
   "source": [
    "2.2. Intervalo de Confianza para el PIB\n",
    "\n",
    "Contexto: Eres una economista y quieres calcular el intervalo de confianza al 90% para el Producto Interno Bruto (PIB) de los continentes."
   ]
  },
  {
   "cell_type": "code",
   "execution_count": 18,
   "metadata": {},
   "outputs": [
    {
     "name": "stdout",
     "output_type": "stream",
     "text": [
      "\n",
      "CONTINENTE: Asia\n",
      "\n",
      "Intervalo de Confianza:\n",
      "Media Muestral: 837195265650.86\n",
      "Error Estándar: 463167313346.77\n",
      "Nivel de Confianza: 0.9\n",
      "Valor Crítico: 1.68\n",
      "Intervalo de Confianza: (58578265130.07, 1615812266171.66)\n",
      "\n",
      "CONTINENTE: Europe\n",
      "\n",
      "Intervalo de Confianza:\n",
      "Media Muestral: 486748190304.24\n",
      "Error Estándar: 124182737782.55\n",
      "Nivel de Confianza: 0.9\n",
      "Valor Crítico: 1.68\n",
      "Intervalo de Confianza: (278192298911.51, 695304081696.97)\n",
      "\n",
      "CONTINENTE: Africa\n",
      "\n",
      "Intervalo de Confianza:\n",
      "Media Muestral: 46080559143.87\n",
      "Error Estándar: 12052560395.91\n",
      "Nivel de Confianza: 0.9\n",
      "Valor Crítico: 1.67\n",
      "Intervalo de Confianza: (25896266980.48, 66264851307.25)\n",
      "\n",
      "CONTINENTE: Central America\n",
      "\n",
      "Intervalo de Confianza:\n",
      "Media Muestral: 88479927703.1\n",
      "Error Estándar: 62002880448.04\n",
      "Nivel de Confianza: 0.9\n",
      "Valor Crítico: 1.73\n",
      "Intervalo de Confianza: (-18731287288.44, 195691142694.64)\n",
      "\n",
      "CONTINENTE: South America\n",
      "\n",
      "Intervalo de Confianza:\n",
      "Media Muestral: 298433685548.77\n",
      "Error Estándar: 136724518484.96\n",
      "Nivel de Confianza: 0.9\n",
      "Valor Crítico: 1.78\n",
      "Intervalo de Confianza: (54751277700.89, 542116093396.64)\n",
      "\n",
      "CONTINENTE: Oceania\n",
      "\n",
      "Intervalo de Confianza:\n",
      "Media Muestral: 116788555752.29\n",
      "Error Estándar: 99230087668.92\n",
      "Nivel de Confianza: 0.9\n",
      "Valor Crítico: 1.77\n",
      "Intervalo de Confianza: (-58941320387.31, 292518431891.88)\n",
      "\n",
      "CONTINENTE: North America\n",
      "\n",
      "Intervalo de Confianza:\n",
      "Media Muestral: 11582062814760.0\n",
      "Error Estándar: 9845637185240.0\n",
      "Nivel de Confianza: 0.9\n",
      "Valor Crítico: 6.31\n",
      "Intervalo de Confianza: (-50580843877729.44, 73744969507249.44)\n",
      "\n",
      "CONTINENTE: nan\n",
      "\n",
      "Intervalo de Confianza:\n",
      "Media Muestral: nan\n",
      "Error Estándar: nan\n",
      "Nivel de Confianza: 0.9\n",
      "Valor Crítico: nan\n",
      "Intervalo de Confianza: (nan, nan)\n"
     ]
    }
   ],
   "source": [
    "for pais in df_pair9[\"continent\"].unique():\n",
    "    df_continente2 = df_pair9[df_pair9[\"continent\"] == pais]\n",
    "    \n",
    "    # Eliminar filas con valores nulos en la columna 'gdp'\n",
    "    df_continente_sinnulos2 = df_continente2.dropna(subset=['gdp'])\n",
    "    \n",
    "    # Calcular la media y el error estándar en el DataFrame sin valores nulos\n",
    "    media2 = df_continente_sinnulos2[\"gdp\"].mean()\n",
    "    error2 = stats.sem(df_continente_sinnulos2[\"gdp\"])\n",
    "\n",
    "    # Definir el nivel de confianza (90% en este caso)\n",
    "    nivel_confianza2 = 0.90\n",
    "\n",
    "    # Calculamos los grados de libertad de la muestra.\n",
    "    grados_libertad2 = len(df_continente_sinnulos2[\"gdp\"]) - 1\n",
    "\n",
    "    # Calcular el valor crítico (utilizando la distribución t de Student)\n",
    "    valor_critico2 = stats.t.ppf((1 + nivel_confianza2) / 2, df=grados_libertad2)\n",
    "\n",
    "    # Calcular el intervalo de confianza\n",
    "    limite_inferior2 = media2 - valor_critico2 * error2\n",
    "    limite_superior2 = media2 + valor_critico2 * error2\n",
    "\n",
    "    print(f\"\\nCONTINENTE: {pais}\\n\")\n",
    "    print(\"Intervalo de Confianza:\")\n",
    "    print(f\"Media Muestral: {np.round(media2, 2)}\")\n",
    "    print(f\"Error Estándar: {np.round(error2, 2)}\")\n",
    "    print(f\"Nivel de Confianza: {nivel_confianza2}\")\n",
    "    print(f\"Valor Crítico: {np.round(valor_critico2, 2)}\")\n",
    "    print(f\"Intervalo de Confianza: ({np.round(limite_inferior2, 2)}, {np.round(limite_superior2, 2)})\")"
   ]
  },
  {
   "cell_type": "code",
   "execution_count": 19,
   "metadata": {},
   "outputs": [],
   "source": [
    "# Explicación: observamos que continentes tienen menos variaciones en el PIB. Es decir, su intervalo de confianza presenta un menor rango. "
   ]
  },
  {
   "cell_type": "markdown",
   "metadata": {},
   "source": [
    "2.3.Intervalo de Confianza para la Tasa de Natalidad\n",
    "\n",
    "Contexto: Trabajas en una agencia gubernamental que se ocupa de cuestiones demográficas y deseas determinar el intervalo de confianza al 99% para la tasa de natalidad promedio en Asia."
   ]
  },
  {
   "cell_type": "code",
   "execution_count": 20,
   "metadata": {},
   "outputs": [
    {
     "name": "stdout",
     "output_type": "stream",
     "text": [
      "Intervalo de Confianza:\n",
      "Media Muestral: 18.81\n",
      "Error Estándar: 0.99\n",
      "Nivel de Confianza: 0.99\n",
      "Valor Crítico: 2.7\n",
      "Intervalo de Confianza: (16.14, 21.48)\n"
     ]
    }
   ],
   "source": [
    "df_continente3 = df_pair9[df_pair9[\"continent\"] == \"Asia\"]\n",
    "\n",
    "# Eliminar filas con valores nulos en la columna 'birth_rate'\n",
    "df_continente_sinnulos3 = df_continente3.dropna(subset=['birth_rate'])\n",
    "\n",
    "# Calcular la media y el error estándar en el DataFrame sin valores nulos\n",
    "media3 = df_continente_sinnulos3[\"birth_rate\"].mean()\n",
    "error3 = stats.sem(df_continente_sinnulos3[\"birth_rate\"])\n",
    "\n",
    "# Definir el nivel de confianza (99% en este caso)\n",
    "nivel_confianza3 = 0.99\n",
    "\n",
    "# Calculamos los grados de libertad de la muestra.\n",
    "grados_libertad3 = len(df_continente_sinnulos3[\"birth_rate\"]) - 1\n",
    "\n",
    "# Calcular el valor crítico (utilizando la distribución t de Student)\n",
    "valor_critico3 = stats.t.ppf((1 + nivel_confianza3) / 2, df=grados_libertad3)\n",
    "\n",
    "# Calcular el intervalo de confianza\n",
    "limite_inferior3 = media3 - valor_critico3 * error3\n",
    "limite_superior3 = media3 + valor_critico3 * error3\n",
    "\n",
    "print(\"Intervalo de Confianza:\")\n",
    "print(f\"Media Muestral: {np.round(media3, 2)}\")\n",
    "print(f\"Error Estándar: {np.round(error3, 2)}\")\n",
    "print(f\"Nivel de Confianza: {nivel_confianza3}\")\n",
    "print(f\"Valor Crítico: {np.round(valor_critico3, 2)}\")\n",
    "print(f\"Intervalo de Confianza: ({np.round(limite_inferior3, 2)}, {np.round(limite_superior3, 2)})\")"
   ]
  },
  {
   "cell_type": "code",
   "execution_count": 21,
   "metadata": {},
   "outputs": [],
   "source": [
    "# Explicación: observamos que en Asia el número de nacimiento por cada 1000 habitantes por año, esta en un rango de 16.14 y 21.48.\n",
    "# El intervalo de confianza para la variable en cuestión, con un nivel de confianza del 99%, es de 16.14 a 21.48.\n",
    "# Esto indica que hay un 99% de probabilidad de que el verdadero valor de la variable esté dentro de este rango. Es una estimación de la precisión de la media muestral, donde el valor medio observado fue de 18.81.\n"
   ]
  },
  {
   "cell_type": "markdown",
   "metadata": {},
   "source": [
    "2.4. Intervalo de Confianza para la Tasa de Desempleo\n",
    "\n",
    "Contexto: Eres un analista de políticas públicas y deseas calcular el intervalo de confianza al 95% para la tasa de desempleo promedio en los países de Oceanía."
   ]
  },
  {
   "cell_type": "code",
   "execution_count": 22,
   "metadata": {},
   "outputs": [
    {
     "name": "stdout",
     "output_type": "stream",
     "text": [
      "Intervalo de Confianza de Oceania:\n",
      "Media Muestral: 3.79\n",
      "Error Estándar: 0.87\n",
      "Nivel de Confianza: 0.95\n",
      "Valor Crítico: 2.36\n",
      "Intervalo de Confianza: (1.73, 5.86)\n"
     ]
    }
   ],
   "source": [
    "df_continente4 = df_pair9[df_pair9[\"continent\"] == \"Oceania\"]\n",
    "\n",
    "# Eliminar filas con valores nulos en la columna 'birth_rate'\n",
    "df_continente_sinnulos4 = df_continente4.dropna(subset=['unemployment_rate'])\n",
    "\n",
    "# Calcular la media y el error estándar en el DataFrame sin valores nulos\n",
    "media_4 = df_continente_sinnulos4[\"unemployment_rate\"].mean()\n",
    "error4 = stats.sem(df_continente_sinnulos4[\"unemployment_rate\"])\n",
    "\n",
    "# Definir el nivel de confianza (95% en este caso)\n",
    "nivel_confianza4 = 0.95\n",
    "\n",
    "# Calculamos los grados de libertad de la muestra.\n",
    "grados_libertad4 = len(df_continente_sinnulos4[\"unemployment_rate\"]) - 1\n",
    "\n",
    "# Calcular el valor crítico (utilizando la distribución t de Student)\n",
    "valor_critico4 = stats.t.ppf((1 + nivel_confianza4) / 2, df=grados_libertad4)\n",
    "\n",
    "# Calcular el intervalo de confianza\n",
    "limite_inferior4 = media_4 - valor_critico4 * error4\n",
    "limite_superior4 = media_4 + valor_critico4 * error4\n",
    "\n",
    "print(\"Intervalo de Confianza de Oceania:\")\n",
    "print(f\"Media Muestral: {np.round(media_4, 2)}\")\n",
    "print(f\"Error Estándar: {np.round(error4, 2)}\")\n",
    "print(f\"Nivel de Confianza: {nivel_confianza4}\")\n",
    "print(f\"Valor Crítico: {np.round(valor_critico4, 2)}\")\n",
    "print(f\"Intervalo de Confianza: ({np.round(limite_inferior4, 2)}, {np.round(limite_superior4, 2)})\")"
   ]
  },
  {
   "cell_type": "code",
   "execution_count": 23,
   "metadata": {},
   "outputs": [],
   "source": [
    "# Explicación: El intervalo de confianza para la tasa de desempleo en Oceanía, con un nivel de confianza del 95%, es de 1.73% a 5.86%.\n",
    "# Esto significa que hay un 95% de probabilidad de que la verdadera tasa de desempleo de Oceanía esté dentro de este rango. "
   ]
  },
  {
   "cell_type": "markdown",
   "metadata": {},
   "source": [
    "2.5. Intervalo de Confianza para la Tasa de Impuestos\n",
    "\n",
    "Contexto: Trabajas en un ministerio de finanzas y deseas estimar el intervalo de confianza al 90% para la tasa de impuestos promedio en los países de África."
   ]
  },
  {
   "cell_type": "code",
   "execution_count": 24,
   "metadata": {},
   "outputs": [
    {
     "name": "stdout",
     "output_type": "stream",
     "text": [
      "Intervalo de Confianza de Africa:\n",
      "Media Muestral: 47.77\n",
      "Error Estándar: 4.04\n",
      "Nivel de Confianza: 0.9\n",
      "Valor Crítico: 1.68\n",
      "Intervalo de Confianza: (41.0, 54.54)\n"
     ]
    }
   ],
   "source": [
    "df_continente5 = df_pair9[df_pair9[\"continent\"] == \"Africa\"]\n",
    "\n",
    "# Eliminar filas con valores nulos en la columna 'birth_rate'\n",
    "df_continente_sinnulos5 = df_continente5.dropna(subset=['total_tax_rate'])\n",
    "\n",
    "# Calcular la media y el error estándar en el DataFrame sin valores nulos\n",
    "media5 = df_continente_sinnulos5[\"total_tax_rate\"].mean()\n",
    "error5 = stats.sem(df_continente_sinnulos5[\"total_tax_rate\"])\n",
    "\n",
    "# Definir el nivel de confianza (90% en este caso)\n",
    "nivel_confianza5 = 0.90\n",
    "\n",
    "# Calculamos los grados de libertad de la muestra.\n",
    "grados_libertad5 = len(df_continente_sinnulos5[\"total_tax_rate\"]) - 1\n",
    "\n",
    "# Calcular el valor crítico (utilizando la distribución t de Student)\n",
    "valor_critico5 = stats.t.ppf((1 + nivel_confianza5) / 2, df=grados_libertad5)\n",
    "\n",
    "# Calcular el intervalo de confianza\n",
    "limite_inferior5 = media5 - valor_critico5 * error5\n",
    "limite_superior5 = media5 + valor_critico5 * error5\n",
    "\n",
    "print(\"Intervalo de Confianza de Africa:\")\n",
    "print(f\"Media Muestral: {np.round(media5, 2)}\")\n",
    "print(f\"Error Estándar: {np.round(error5, 2)}\")\n",
    "print(f\"Nivel de Confianza: {nivel_confianza5}\")\n",
    "print(f\"Valor Crítico: {np.round(valor_critico5, 2)}\")\n",
    "print(f\"Intervalo de Confianza: ({np.round(limite_inferior5, 2)}, {np.round(limite_superior5, 2)})\")"
   ]
  },
  {
   "cell_type": "code",
   "execution_count": 25,
   "metadata": {},
   "outputs": [],
   "source": [
    "# Explicación: El intervalo de confianza para la tasa de impuestos en África, con un nivel de confianza del 90%, es de 41.0% a 54.54%.\n",
    "# Esto significa que hay un 90% de probabilidad de que la verdadera tasa de impuestos de África esté dentro de este rango. "
   ]
  },
  {
   "cell_type": "markdown",
   "metadata": {},
   "source": [
    "3. Ejercicios prueba de hipótesis: Tienes que pensar en 2 hipótesis que quieras aceptar o rechazar usando una prueba de hipótesis en base a los datos que tenemos."
   ]
  },
  {
   "cell_type": "markdown",
   "metadata": {},
   "source": [
    "### Hipótesis 1:"
   ]
  },
  {
   "cell_type": "code",
   "execution_count": 26,
   "metadata": {},
   "outputs": [],
   "source": [
    "\n",
    "# Contexto: Quieres determinar si la tasa de impuestos difiere entre los continentes de Europa y Asia.\n",
    "# Esto es relevante para entender las diferencias en las políticas fiscales y la carga tributaria entre las regiones, lo que puede tener implicaciones significativas en términos de desarrollo económico, inversión empresarial y bienestar social.\n",
    "\n",
    "# Hipótesis nula (H0): La tasa de impuestos es la misma en Europa y Asia.\n",
    "# Hipótesis alternativa (H1): La tasa de impuestos difiere entre Europa y Asia."
   ]
  },
  {
   "cell_type": "code",
   "execution_count": 27,
   "metadata": {},
   "outputs": [
    {
     "name": "stdout",
     "output_type": "stream",
     "text": [
      "Hipótesis 1:\n",
      "No podemos rechazar la hipótesis nula.\n",
      "No hay evidencia suficiente para afirmar una diferencia significativa entre los grupos.\n"
     ]
    }
   ],
   "source": [
    "# Resolución mediante la prueba t de Student. \n",
    "def prueba_hipotesis(*args):\n",
    "    # Verificar si las varianzas son iguales\n",
    "    if len(args) == 2:\n",
    "        p_value_varianza = stats.levene(*args, center=\"median\")[1]\n",
    "    else:\n",
    "        p_value_varianza = stats.bartlett(*args)[1]\n",
    "    \n",
    "    # Realizar la prueba t de Student\n",
    "    if p_value_varianza > 0.05:\n",
    "        t_stat, p_value = stats.ttest_ind(*args, equal_var=True)\n",
    "    else:\n",
    "        t_stat, p_value = stats.ttest_ind(*args, equal_var=False)\n",
    "    \n",
    "    # Nivel de significancia (alfa)\n",
    "    alpha = 0.05\n",
    "\n",
    "    # Comparar p-value con alfa\n",
    "    if p_value < alpha:\n",
    "        print(\"Rechazamos la hipótesis nula.\")\n",
    "        print(\"Hay una diferencia significativa entre los grupos.\")\n",
    "    else:\n",
    "        print(\"No podemos rechazar la hipótesis nula.\")\n",
    "        print(\"No hay evidencia suficiente para afirmar una diferencia significativa entre los grupos.\")\n",
    "\n",
    "# Hipótesis 1: Comparación de tasas de impuestos entre Europa y Asia\n",
    "tasas_europa = df_pair9[df_pair9[\"continent\"] == \"Europe\"][\"total_tax_rate\"]\n",
    "tasas_asia = df_pair9[df_pair9[\"continent\"] == \"Asia\"][\"total_tax_rate\"]\n",
    "print(\"Hipótesis 1:\")\n",
    "prueba_hipotesis(tasas_europa, tasas_asia)\n"
   ]
  },
  {
   "cell_type": "code",
   "execution_count": 68,
   "metadata": {},
   "outputs": [
    {
     "data": {
      "image/png": "[encoded data removed]",
      "text/plain": [
       "<Figure size 720x432 with 1 Axes>"
      ]
     },
     "metadata": {
      "needs_background": "light"
     },
     "output_type": "display_data"
    }
   ],
   "source": [
    "# Histogramas de las tasas de impuestos en Europa y Asia\n",
    "plt.figure(figsize=(10, 6))\n",
    "plt.hist(tasas_europa, bins=20, alpha=0.5, label='Europa', color='blue')\n",
    "plt.hist(tasas_asia, bins=20, alpha=0.5, label='Asia', color='red')\n",
    "plt.xlabel('Tasa de Impuestos')\n",
    "plt.ylabel('Frecuencia')\n",
    "plt.title('Distribución de las Tasas de Impuestos en Europa y Asia')\n",
    "plt.legend()\n",
    "plt.show()"
   ]
  },
  {
   "cell_type": "code",
   "execution_count": 29,
   "metadata": {},
   "outputs": [
    {
     "name": "stdout",
     "output_type": "stream",
     "text": [
      "Shapiro-Wilk para tasas de impuestos en Europa:\n",
      "Estadística de prueba: nan\n",
      "Valor p: 1.0\n",
      "Shapiro-Wilk para tasas de impuestos en Asia:\n",
      "Estadística de prueba: nan\n",
      "Valor p: 1.0\n"
     ]
    }
   ],
   "source": [
    "# Resolución: Hipótesis 1: Comparación de tasas de impuestos entre Europa y Asia\n",
    "# Prueba de normalidad: Usaremos el test de Shapiro-Wilk para evaluar si las tasas de impuestos en Europa y Asia siguen una distribución normal.\n",
    "# Obtener las tasas de impuestos para Europa y Asia\n",
    "tasas_europa = df_pair9[df_pair9[\"continent\"] == \"Europe\"][\"total_tax_rate\"]\n",
    "tasas_asia = df_pair9[df_pair9[\"continent\"] == \"Asia\"][\"total_tax_rate\"]\n",
    "\n",
    "# Realizar la prueba de Shapiro-Wilk para Europa\n",
    "stat_europa, p_value_europa = shapiro(tasas_europa)\n",
    "\n",
    "print(\"Shapiro-Wilk para tasas de impuestos en Europa:\")\n",
    "print(f\"Estadística de prueba: {stat_europa}\")\n",
    "print(f\"Valor p: {p_value_europa}\")\n",
    "\n",
    "# Realizar la prueba de Shapiro-Wilk para Asia\n",
    "stat_asia, p_value_asia = shapiro(tasas_asia)\n",
    "print(\"Shapiro-Wilk para tasas de impuestos en Asia:\")\n",
    "print(f\"Estadística de prueba: {stat_asia}\")\n",
    "print(f\"Valor p: {p_value_asia}\")"
   ]
  },
  {
   "cell_type": "code",
   "execution_count": 30,
   "metadata": {},
   "outputs": [
    {
     "name": "stdout",
     "output_type": "stream",
     "text": [
      "Prueba de Levene para igualdad de varianzas:\n",
      "Estadística de prueba: nan\n",
      "Valor p: nan\n"
     ]
    }
   ],
   "source": [
    "# Prueba de igualdad de varianzas: Utilizaremos la prueba de Levene para verificar si las varianzas de las tasas de impuestos en Europa y Asia son iguales.\n",
    "stat_varianzas, p_value_varianzas = levene(tasas_europa, tasas_asia)\n",
    "print(\"Prueba de Levene para igualdad de varianzas:\")\n",
    "print(f\"Estadística de prueba: {stat_varianzas}\")\n",
    "print(f\"Valor p: {p_value_varianzas}\")"
   ]
  },
  {
   "cell_type": "code",
   "execution_count": 31,
   "metadata": {},
   "outputs": [
    {
     "name": "stdout",
     "output_type": "stream",
     "text": [
      "Prueba t para comparar las medias de las tasas de impuestos entre Europa y Asia:\n",
      "Estadística de prueba (t): nan\n",
      "Valor p: nan\n"
     ]
    }
   ],
   "source": [
    "# Prueba de comparación de medias: Dependiendo del resultado de la prueba de igualdad de varianzas, utilizaremos la prueba t de Welch o la prueba t de Student para comparar las medias de las tasas de impuestos entre Europa y Asia.\n",
    "# Realizar la prueba t de Student para comparar las medias de las tasas de impuestos\n",
    "t_stat, p_value = ttest_ind(tasas_europa, tasas_asia, equal_var=True)\n",
    "\n",
    "print(\"Prueba t para comparar las medias de las tasas de impuestos entre Europa y Asia:\")\n",
    "print(f\"Estadística de prueba (t): {t_stat}\")\n",
    "print(f\"Valor p: {p_value}\")"
   ]
  },
  {
   "cell_type": "markdown",
   "metadata": {},
   "source": [
    "### Hipótesis 2:"
   ]
  },
  {
   "cell_type": "code",
   "execution_count": 32,
   "metadata": {},
   "outputs": [],
   "source": [
    "\n",
    "# Contexto: Saber si la poblacion varía segun el idioma (ingles y frances, ya que el espeñol que era la primera opcion tiene todos los valores de pobleacion nulos)\n",
    "# Estás interesado en saber si hay diferencias significativas en la población segun el idioma. Esto podría ser relevante en diversos campos, como la lingüística, la planificación urbana, la educación y la formulación de políticas de inmigración.\n",
    "# Conocer las diferencias en la población segun el idioma puede ayudar a informar estrategias de comunicación, programas de enseñanza de idiomas y políticas de integración cultural.\n",
    "\n",
    "# Hipótesis nula (H0): La población para ambos grupos es la misma.\n",
    "# Hipótesis alternativa (H1): La población para al menos un idioma es diferente."
   ]
  },
  {
   "cell_type": "code",
   "execution_count": 65,
   "metadata": {},
   "outputs": [],
   "source": [
    "grupo_ingles = df_pair9[df_pair9[\"official_language\"] == \"English\"][\"population\"]\n",
    "grupo_frances = df_pair9[df_pair9[\"official_language\"] == \"French\"][\"population\"]"
   ]
  },
  {
   "cell_type": "code",
   "execution_count": 66,
   "metadata": {},
   "outputs": [
    {
     "name": "stdout",
     "output_type": "stream",
     "text": [
      "No podemos rechazar la hipótesis nula.\n",
      "No hay evidencia suficiente para afirmar una diferencia significativa entre los grupos.\n"
     ]
    }
   ],
   "source": [
    "prueba_hipotesis(grupo_ingles, grupo_frances)"
   ]
  },
  {
   "cell_type": "code",
   "execution_count": 67,
   "metadata": {},
   "outputs": [
    {
     "data": {
      "image/png": "[encoded data removed]",
      "text/plain": [
       "<Figure size 720x504 with 1 Axes>"
      ]
     },
     "metadata": {
      "needs_background": "light"
     },
     "output_type": "display_data"
    }
   ],
   "source": [
    "plt.figure(figsize=(10, 7))\n",
    "sns.barplot(x = \"official_language\", \n",
    "                y = \"population\", \n",
    "                data = df_pair9[(df_pair9[\"official_language\"] == \"English\") | (df_pair9[\"official_language\"] == \"French\")])\n",
    "\n",
    "# cambiamos los nombres de los ejes\n",
    "plt.xlabel(\"Idioma\")\n",
    "plt.ylabel(\"Poblacion\")\n",
    "plt.xticks(rotation = 90);"
   ]
  },
  {
   "cell_type": "code",
   "execution_count": null,
   "metadata": {},
   "outputs": [],
   "source": [
    "# En conlusion, aunque el test T Student resuelva que no hay diferencias significativas, tras realizar mas comprobaciones: aunque hemos comprobado que el ingles se habla en mas paises, \n",
    "# la poblacion de los paises donde se habla frances supera a la de los paises de habla inglesa, \n",
    "# esto puede indicar que los paises de habla francesa son mas grandes o tienen menor diferencia entre natalidad y mortalidad"
   ]
  },
  {
   "cell_type": "code",
   "execution_count": 60,
   "metadata": {},
   "outputs": [
    {
     "data": {
      "text/plain": [
       "English             31\n",
       "French              25\n",
       "Spanish             19\n",
       "Arabic              18\n",
       "Portuguese           7\n",
       "                    ..\n",
       "Albanian             1\n",
       "Jamaican English     1\n",
       "Lao                  1\n",
       "Latvian              1\n",
       "Shona                1\n",
       "Name: official_language, Length: 76, dtype: int64"
      ]
     },
     "execution_count": 60,
     "metadata": {},
     "output_type": "execute_result"
    }
   ],
   "source": [
    "df_pair9[\"official_language\"].value_counts()"
   ]
  }
 ],
 "metadata": {
  "kernelspec": {
   "display_name": "base",
   "language": "python",
   "name": "python3"
  },
  "language_info": {
   "codemirror_mode": {
    "name": "ipython",
    "version": 3
   },
   "file_extension": ".py",
   "mimetype": "text/x-python",
   "name": "python",
   "nbconvert_exporter": "python",
   "pygments_lexer": "ipython3",
   "version": "3.9.7"
  }
 },
 "nbformat": 4,
 "nbformat_minor": 2
}
