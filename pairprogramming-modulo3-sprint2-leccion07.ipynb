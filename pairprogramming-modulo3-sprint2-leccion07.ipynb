{
 "cells": [
  {
   "cell_type": "markdown",
   "metadata": {},
   "source": [
    "## PAIR PROGRAMMING - MODULO 3 - LECCION 07 - VISUALIZACIÓN"
   ]
  },
  {
   "cell_type": "code",
   "execution_count": 1,
   "metadata": {},
   "outputs": [],
   "source": [
    "# Instalaciones de las dos librerías\n",
    "# !pip install matplotlib\n",
    "# !pip install seaborn"
   ]
  },
  {
   "cell_type": "code",
   "execution_count": 2,
   "metadata": {},
   "outputs": [],
   "source": [
    "# Importaciones de las librerías necesarias\n",
    "# Tratamiento de datos\n",
    "import pandas as pd\n",
    "\n",
    "# Visualización\n",
    "import matplotlib.pyplot as plt\n",
    "import seaborn as sns\n",
    "\n",
    "# Configuración\n",
    "pd.set_option('display.max_columns', None) # para poder visualizar todas las columnas de los DataFrames"
   ]
  },
  {
   "cell_type": "code",
   "execution_count": 3,
   "metadata": {},
   "outputs": [
    {
     "data": {
      "text/html": [
       "<div>\n",
       "<style scoped>\n",
       "    .dataframe tbody tr th:only-of-type {\n",
       "        vertical-align: middle;\n",
       "    }\n",
       "\n",
       "    .dataframe tbody tr th {\n",
       "        vertical-align: top;\n",
       "    }\n",
       "\n",
       "    .dataframe thead th {\n",
       "        text-align: right;\n",
       "    }\n",
       "</style>\n",
       "<table border=\"1\" class=\"dataframe\">\n",
       "  <thead>\n",
       "    <tr style=\"text-align: right;\">\n",
       "      <th></th>\n",
       "      <th>country</th>\n",
       "      <th>density</th>\n",
       "      <th>abbreviation</th>\n",
       "      <th>agricultural_land</th>\n",
       "      <th>land_area</th>\n",
       "      <th>armed_forces_size</th>\n",
       "      <th>birth_rate</th>\n",
       "      <th>calling_code</th>\n",
       "      <th>capital/major_city</th>\n",
       "      <th>co2-emissions</th>\n",
       "      <th>cpi</th>\n",
       "      <th>cpi_change</th>\n",
       "      <th>currency-code</th>\n",
       "      <th>fertility_rate</th>\n",
       "      <th>forested_area</th>\n",
       "      <th>gasoline_price</th>\n",
       "      <th>gdp</th>\n",
       "      <th>gross_primary_education_enrollment</th>\n",
       "      <th>gross_tertiary_education_enrollment</th>\n",
       "      <th>infant_mortality</th>\n",
       "      <th>largest_city</th>\n",
       "      <th>life_expectancy</th>\n",
       "      <th>maternal_mortality_ratio</th>\n",
       "      <th>minimum_wage</th>\n",
       "      <th>official_language</th>\n",
       "      <th>out_of_pocket_health_expenditure</th>\n",
       "      <th>physicians_per_thousand</th>\n",
       "      <th>population</th>\n",
       "      <th>population_labor_force_participation</th>\n",
       "      <th>tax_revenue</th>\n",
       "      <th>total_tax_rate</th>\n",
       "      <th>unemployment_rate</th>\n",
       "      <th>urban_population</th>\n",
       "      <th>latitude</th>\n",
       "      <th>longitude</th>\n",
       "      <th>continent</th>\n",
       "    </tr>\n",
       "  </thead>\n",
       "  <tbody>\n",
       "    <tr>\n",
       "      <th>0</th>\n",
       "      <td>Afghanistan</td>\n",
       "      <td>60.0</td>\n",
       "      <td>AF</td>\n",
       "      <td>58.1</td>\n",
       "      <td>652.230</td>\n",
       "      <td>323.0</td>\n",
       "      <td>32.49</td>\n",
       "      <td>93.0</td>\n",
       "      <td>Kabul</td>\n",
       "      <td>8.672</td>\n",
       "      <td>149.90</td>\n",
       "      <td>2.3</td>\n",
       "      <td>AFN</td>\n",
       "      <td>4.47</td>\n",
       "      <td>2.1</td>\n",
       "      <td>0.70</td>\n",
       "      <td>1.910135e+10</td>\n",
       "      <td>104.0</td>\n",
       "      <td>9.7</td>\n",
       "      <td>47.9</td>\n",
       "      <td>Kabul</td>\n",
       "      <td>64.5</td>\n",
       "      <td>638.0</td>\n",
       "      <td>0.43</td>\n",
       "      <td>Pashto</td>\n",
       "      <td>78.4</td>\n",
       "      <td>0.28</td>\n",
       "      <td>NaN</td>\n",
       "      <td>48.9</td>\n",
       "      <td>9.3</td>\n",
       "      <td>71.4</td>\n",
       "      <td>11.12</td>\n",
       "      <td>NaN</td>\n",
       "      <td>33.939110</td>\n",
       "      <td>67.709953</td>\n",
       "      <td>Asia</td>\n",
       "    </tr>\n",
       "    <tr>\n",
       "      <th>1</th>\n",
       "      <td>Albania</td>\n",
       "      <td>105.0</td>\n",
       "      <td>AL</td>\n",
       "      <td>43.1</td>\n",
       "      <td>28.748</td>\n",
       "      <td>9.0</td>\n",
       "      <td>11.78</td>\n",
       "      <td>355.0</td>\n",
       "      <td>Tirana</td>\n",
       "      <td>4.536</td>\n",
       "      <td>119.05</td>\n",
       "      <td>1.4</td>\n",
       "      <td>ALL</td>\n",
       "      <td>1.62</td>\n",
       "      <td>28.1</td>\n",
       "      <td>1.36</td>\n",
       "      <td>1.527808e+10</td>\n",
       "      <td>107.0</td>\n",
       "      <td>55.0</td>\n",
       "      <td>7.8</td>\n",
       "      <td>Tirana</td>\n",
       "      <td>78.5</td>\n",
       "      <td>15.0</td>\n",
       "      <td>1.12</td>\n",
       "      <td>Albanian</td>\n",
       "      <td>56.9</td>\n",
       "      <td>1.20</td>\n",
       "      <td>NaN</td>\n",
       "      <td>55.7</td>\n",
       "      <td>18.6</td>\n",
       "      <td>36.6</td>\n",
       "      <td>12.33</td>\n",
       "      <td>NaN</td>\n",
       "      <td>41.153332</td>\n",
       "      <td>20.168331</td>\n",
       "      <td>Europe</td>\n",
       "    </tr>\n",
       "    <tr>\n",
       "      <th>2</th>\n",
       "      <td>Algeria</td>\n",
       "      <td>18.0</td>\n",
       "      <td>DZ</td>\n",
       "      <td>17.4</td>\n",
       "      <td>NaN</td>\n",
       "      <td>317.0</td>\n",
       "      <td>24.28</td>\n",
       "      <td>213.0</td>\n",
       "      <td>Algiers</td>\n",
       "      <td>150.006</td>\n",
       "      <td>151.36</td>\n",
       "      <td>2.0</td>\n",
       "      <td>DZD</td>\n",
       "      <td>3.02</td>\n",
       "      <td>0.8</td>\n",
       "      <td>0.28</td>\n",
       "      <td>1.699882e+11</td>\n",
       "      <td>109.9</td>\n",
       "      <td>51.4</td>\n",
       "      <td>20.1</td>\n",
       "      <td>Algiers</td>\n",
       "      <td>76.7</td>\n",
       "      <td>112.0</td>\n",
       "      <td>0.95</td>\n",
       "      <td>Arabic</td>\n",
       "      <td>28.1</td>\n",
       "      <td>1.72</td>\n",
       "      <td>NaN</td>\n",
       "      <td>41.2</td>\n",
       "      <td>37.2</td>\n",
       "      <td>66.1</td>\n",
       "      <td>11.70</td>\n",
       "      <td>NaN</td>\n",
       "      <td>28.033886</td>\n",
       "      <td>1.659626</td>\n",
       "      <td>Africa</td>\n",
       "    </tr>\n",
       "    <tr>\n",
       "      <th>3</th>\n",
       "      <td>Andorra</td>\n",
       "      <td>164.0</td>\n",
       "      <td>AD</td>\n",
       "      <td>40.0</td>\n",
       "      <td>468.000</td>\n",
       "      <td>NaN</td>\n",
       "      <td>7.20</td>\n",
       "      <td>376.0</td>\n",
       "      <td>Andorra la Vella</td>\n",
       "      <td>469.000</td>\n",
       "      <td>NaN</td>\n",
       "      <td>NaN</td>\n",
       "      <td>EUR</td>\n",
       "      <td>1.27</td>\n",
       "      <td>34.0</td>\n",
       "      <td>1.51</td>\n",
       "      <td>3.154058e+09</td>\n",
       "      <td>106.4</td>\n",
       "      <td>NaN</td>\n",
       "      <td>2.7</td>\n",
       "      <td>Andorra la Vella</td>\n",
       "      <td>NaN</td>\n",
       "      <td>NaN</td>\n",
       "      <td>6.63</td>\n",
       "      <td>Catalan</td>\n",
       "      <td>36.4</td>\n",
       "      <td>3.33</td>\n",
       "      <td>77.142</td>\n",
       "      <td>NaN</td>\n",
       "      <td>NaN</td>\n",
       "      <td>NaN</td>\n",
       "      <td>NaN</td>\n",
       "      <td>67.873</td>\n",
       "      <td>42.506285</td>\n",
       "      <td>1.521801</td>\n",
       "      <td>Europe</td>\n",
       "    </tr>\n",
       "    <tr>\n",
       "      <th>4</th>\n",
       "      <td>Angola</td>\n",
       "      <td>26.0</td>\n",
       "      <td>AO</td>\n",
       "      <td>47.5</td>\n",
       "      <td>NaN</td>\n",
       "      <td>117.0</td>\n",
       "      <td>40.73</td>\n",
       "      <td>244.0</td>\n",
       "      <td>Luanda</td>\n",
       "      <td>34.693</td>\n",
       "      <td>261.73</td>\n",
       "      <td>17.1</td>\n",
       "      <td>AOA</td>\n",
       "      <td>5.52</td>\n",
       "      <td>46.3</td>\n",
       "      <td>0.97</td>\n",
       "      <td>9.463542e+10</td>\n",
       "      <td>113.5</td>\n",
       "      <td>9.3</td>\n",
       "      <td>51.6</td>\n",
       "      <td>Luanda</td>\n",
       "      <td>60.8</td>\n",
       "      <td>241.0</td>\n",
       "      <td>0.71</td>\n",
       "      <td>Portuguese</td>\n",
       "      <td>33.4</td>\n",
       "      <td>0.21</td>\n",
       "      <td>NaN</td>\n",
       "      <td>77.5</td>\n",
       "      <td>9.2</td>\n",
       "      <td>49.1</td>\n",
       "      <td>6.89</td>\n",
       "      <td>NaN</td>\n",
       "      <td>-11.202692</td>\n",
       "      <td>17.873887</td>\n",
       "      <td>Africa</td>\n",
       "    </tr>\n",
       "    <tr>\n",
       "      <th>...</th>\n",
       "      <td>...</td>\n",
       "      <td>...</td>\n",
       "      <td>...</td>\n",
       "      <td>...</td>\n",
       "      <td>...</td>\n",
       "      <td>...</td>\n",
       "      <td>...</td>\n",
       "      <td>...</td>\n",
       "      <td>...</td>\n",
       "      <td>...</td>\n",
       "      <td>...</td>\n",
       "      <td>...</td>\n",
       "      <td>...</td>\n",
       "      <td>...</td>\n",
       "      <td>...</td>\n",
       "      <td>...</td>\n",
       "      <td>...</td>\n",
       "      <td>...</td>\n",
       "      <td>...</td>\n",
       "      <td>...</td>\n",
       "      <td>...</td>\n",
       "      <td>...</td>\n",
       "      <td>...</td>\n",
       "      <td>...</td>\n",
       "      <td>...</td>\n",
       "      <td>...</td>\n",
       "      <td>...</td>\n",
       "      <td>...</td>\n",
       "      <td>...</td>\n",
       "      <td>...</td>\n",
       "      <td>...</td>\n",
       "      <td>...</td>\n",
       "      <td>...</td>\n",
       "      <td>...</td>\n",
       "      <td>...</td>\n",
       "      <td>...</td>\n",
       "    </tr>\n",
       "    <tr>\n",
       "      <th>190</th>\n",
       "      <td>Venezuela</td>\n",
       "      <td>32.0</td>\n",
       "      <td>VE</td>\n",
       "      <td>24.5</td>\n",
       "      <td>912.050</td>\n",
       "      <td>343.0</td>\n",
       "      <td>17.88</td>\n",
       "      <td>58.0</td>\n",
       "      <td>Caracas</td>\n",
       "      <td>164.175</td>\n",
       "      <td>NaN</td>\n",
       "      <td>254.9</td>\n",
       "      <td>VED</td>\n",
       "      <td>2.27</td>\n",
       "      <td>52.7</td>\n",
       "      <td>0.00</td>\n",
       "      <td>4.823593e+11</td>\n",
       "      <td>97.2</td>\n",
       "      <td>79.3</td>\n",
       "      <td>21.4</td>\n",
       "      <td>Caracas</td>\n",
       "      <td>72.1</td>\n",
       "      <td>125.0</td>\n",
       "      <td>0.01</td>\n",
       "      <td>Spanish</td>\n",
       "      <td>45.8</td>\n",
       "      <td>1.92</td>\n",
       "      <td>NaN</td>\n",
       "      <td>59.7</td>\n",
       "      <td>NaN</td>\n",
       "      <td>73.3</td>\n",
       "      <td>8.80</td>\n",
       "      <td>NaN</td>\n",
       "      <td>6.423750</td>\n",
       "      <td>-66.589730</td>\n",
       "      <td>South America</td>\n",
       "    </tr>\n",
       "    <tr>\n",
       "      <th>191</th>\n",
       "      <td>Vietnam</td>\n",
       "      <td>314.0</td>\n",
       "      <td>VN</td>\n",
       "      <td>39.3</td>\n",
       "      <td>331.210</td>\n",
       "      <td>522.0</td>\n",
       "      <td>16.75</td>\n",
       "      <td>84.0</td>\n",
       "      <td>Hanoi</td>\n",
       "      <td>192.668</td>\n",
       "      <td>163.52</td>\n",
       "      <td>2.8</td>\n",
       "      <td>VND</td>\n",
       "      <td>2.05</td>\n",
       "      <td>48.1</td>\n",
       "      <td>0.80</td>\n",
       "      <td>2.619212e+11</td>\n",
       "      <td>110.6</td>\n",
       "      <td>28.5</td>\n",
       "      <td>16.5</td>\n",
       "      <td>Ho Chi Minh City</td>\n",
       "      <td>75.3</td>\n",
       "      <td>43.0</td>\n",
       "      <td>0.73</td>\n",
       "      <td>Vietnamese</td>\n",
       "      <td>43.5</td>\n",
       "      <td>0.82</td>\n",
       "      <td>NaN</td>\n",
       "      <td>77.4</td>\n",
       "      <td>19.1</td>\n",
       "      <td>37.6</td>\n",
       "      <td>2.01</td>\n",
       "      <td>NaN</td>\n",
       "      <td>14.058324</td>\n",
       "      <td>108.277199</td>\n",
       "      <td>Asia</td>\n",
       "    </tr>\n",
       "    <tr>\n",
       "      <th>192</th>\n",
       "      <td>Yemen</td>\n",
       "      <td>56.0</td>\n",
       "      <td>YE</td>\n",
       "      <td>44.6</td>\n",
       "      <td>527.968</td>\n",
       "      <td>40.0</td>\n",
       "      <td>30.45</td>\n",
       "      <td>967.0</td>\n",
       "      <td>Sanaa</td>\n",
       "      <td>10.609</td>\n",
       "      <td>157.58</td>\n",
       "      <td>8.1</td>\n",
       "      <td>YER</td>\n",
       "      <td>3.79</td>\n",
       "      <td>1.0</td>\n",
       "      <td>0.92</td>\n",
       "      <td>2.691440e+10</td>\n",
       "      <td>93.6</td>\n",
       "      <td>10.2</td>\n",
       "      <td>42.9</td>\n",
       "      <td>Sanaa</td>\n",
       "      <td>66.1</td>\n",
       "      <td>164.0</td>\n",
       "      <td>NaN</td>\n",
       "      <td>Arabic</td>\n",
       "      <td>81.0</td>\n",
       "      <td>0.31</td>\n",
       "      <td>NaN</td>\n",
       "      <td>38.0</td>\n",
       "      <td>NaN</td>\n",
       "      <td>26.6</td>\n",
       "      <td>12.91</td>\n",
       "      <td>NaN</td>\n",
       "      <td>15.552727</td>\n",
       "      <td>48.516388</td>\n",
       "      <td>Asia</td>\n",
       "    </tr>\n",
       "    <tr>\n",
       "      <th>193</th>\n",
       "      <td>Zambia</td>\n",
       "      <td>25.0</td>\n",
       "      <td>ZM</td>\n",
       "      <td>32.1</td>\n",
       "      <td>752.618</td>\n",
       "      <td>16.0</td>\n",
       "      <td>36.19</td>\n",
       "      <td>260.0</td>\n",
       "      <td>Lusaka</td>\n",
       "      <td>5.141</td>\n",
       "      <td>212.31</td>\n",
       "      <td>9.2</td>\n",
       "      <td>ZMW</td>\n",
       "      <td>4.63</td>\n",
       "      <td>65.2</td>\n",
       "      <td>1.40</td>\n",
       "      <td>2.306472e+10</td>\n",
       "      <td>98.7</td>\n",
       "      <td>4.1</td>\n",
       "      <td>40.4</td>\n",
       "      <td>Lusaka</td>\n",
       "      <td>63.5</td>\n",
       "      <td>213.0</td>\n",
       "      <td>0.24</td>\n",
       "      <td>English</td>\n",
       "      <td>27.5</td>\n",
       "      <td>1.19</td>\n",
       "      <td>NaN</td>\n",
       "      <td>74.6</td>\n",
       "      <td>16.2</td>\n",
       "      <td>15.6</td>\n",
       "      <td>11.43</td>\n",
       "      <td>NaN</td>\n",
       "      <td>-13.133897</td>\n",
       "      <td>27.849332</td>\n",
       "      <td>Africa</td>\n",
       "    </tr>\n",
       "    <tr>\n",
       "      <th>194</th>\n",
       "      <td>Zimbabwe</td>\n",
       "      <td>38.0</td>\n",
       "      <td>ZW</td>\n",
       "      <td>41.9</td>\n",
       "      <td>390.757</td>\n",
       "      <td>51.0</td>\n",
       "      <td>30.68</td>\n",
       "      <td>263.0</td>\n",
       "      <td>Harare</td>\n",
       "      <td>10.983</td>\n",
       "      <td>105.51</td>\n",
       "      <td>0.9</td>\n",
       "      <td>NaN</td>\n",
       "      <td>3.62</td>\n",
       "      <td>35.5</td>\n",
       "      <td>1.34</td>\n",
       "      <td>2.144076e+10</td>\n",
       "      <td>109.9</td>\n",
       "      <td>10.0</td>\n",
       "      <td>33.9</td>\n",
       "      <td>Harare</td>\n",
       "      <td>61.2</td>\n",
       "      <td>458.0</td>\n",
       "      <td>NaN</td>\n",
       "      <td>Shona</td>\n",
       "      <td>25.8</td>\n",
       "      <td>0.21</td>\n",
       "      <td>NaN</td>\n",
       "      <td>83.1</td>\n",
       "      <td>20.7</td>\n",
       "      <td>31.6</td>\n",
       "      <td>4.95</td>\n",
       "      <td>NaN</td>\n",
       "      <td>-19.015438</td>\n",
       "      <td>29.154857</td>\n",
       "      <td>Africa</td>\n",
       "    </tr>\n",
       "  </tbody>\n",
       "</table>\n",
       "<p>195 rows × 36 columns</p>\n",
       "</div>"
      ],
      "text/plain": [
       "         country  density abbreviation  agricultural_land  land_area  \\\n",
       "0    Afghanistan     60.0           AF               58.1    652.230   \n",
       "1        Albania    105.0           AL               43.1     28.748   \n",
       "2        Algeria     18.0           DZ               17.4        NaN   \n",
       "3        Andorra    164.0           AD               40.0    468.000   \n",
       "4         Angola     26.0           AO               47.5        NaN   \n",
       "..           ...      ...          ...                ...        ...   \n",
       "190    Venezuela     32.0           VE               24.5    912.050   \n",
       "191      Vietnam    314.0           VN               39.3    331.210   \n",
       "192        Yemen     56.0           YE               44.6    527.968   \n",
       "193       Zambia     25.0           ZM               32.1    752.618   \n",
       "194     Zimbabwe     38.0           ZW               41.9    390.757   \n",
       "\n",
       "     armed_forces_size  birth_rate  calling_code capital/major_city  \\\n",
       "0                323.0       32.49          93.0              Kabul   \n",
       "1                  9.0       11.78         355.0             Tirana   \n",
       "2                317.0       24.28         213.0            Algiers   \n",
       "3                  NaN        7.20         376.0   Andorra la Vella   \n",
       "4                117.0       40.73         244.0             Luanda   \n",
       "..                 ...         ...           ...                ...   \n",
       "190              343.0       17.88          58.0            Caracas   \n",
       "191              522.0       16.75          84.0              Hanoi   \n",
       "192               40.0       30.45         967.0              Sanaa   \n",
       "193               16.0       36.19         260.0             Lusaka   \n",
       "194               51.0       30.68         263.0             Harare   \n",
       "\n",
       "     co2-emissions     cpi  cpi_change currency-code  fertility_rate  \\\n",
       "0            8.672  149.90         2.3           AFN            4.47   \n",
       "1            4.536  119.05         1.4           ALL            1.62   \n",
       "2          150.006  151.36         2.0           DZD            3.02   \n",
       "3          469.000     NaN         NaN           EUR            1.27   \n",
       "4           34.693  261.73        17.1           AOA            5.52   \n",
       "..             ...     ...         ...           ...             ...   \n",
       "190        164.175     NaN       254.9           VED            2.27   \n",
       "191        192.668  163.52         2.8           VND            2.05   \n",
       "192         10.609  157.58         8.1           YER            3.79   \n",
       "193          5.141  212.31         9.2           ZMW            4.63   \n",
       "194         10.983  105.51         0.9           NaN            3.62   \n",
       "\n",
       "     forested_area  gasoline_price           gdp  \\\n",
       "0              2.1            0.70  1.910135e+10   \n",
       "1             28.1            1.36  1.527808e+10   \n",
       "2              0.8            0.28  1.699882e+11   \n",
       "3             34.0            1.51  3.154058e+09   \n",
       "4             46.3            0.97  9.463542e+10   \n",
       "..             ...             ...           ...   \n",
       "190           52.7            0.00  4.823593e+11   \n",
       "191           48.1            0.80  2.619212e+11   \n",
       "192            1.0            0.92  2.691440e+10   \n",
       "193           65.2            1.40  2.306472e+10   \n",
       "194           35.5            1.34  2.144076e+10   \n",
       "\n",
       "     gross_primary_education_enrollment  gross_tertiary_education_enrollment  \\\n",
       "0                                 104.0                                  9.7   \n",
       "1                                 107.0                                 55.0   \n",
       "2                                 109.9                                 51.4   \n",
       "3                                 106.4                                  NaN   \n",
       "4                                 113.5                                  9.3   \n",
       "..                                  ...                                  ...   \n",
       "190                                97.2                                 79.3   \n",
       "191                               110.6                                 28.5   \n",
       "192                                93.6                                 10.2   \n",
       "193                                98.7                                  4.1   \n",
       "194                               109.9                                 10.0   \n",
       "\n",
       "     infant_mortality      largest_city  life_expectancy  \\\n",
       "0                47.9             Kabul             64.5   \n",
       "1                 7.8            Tirana             78.5   \n",
       "2                20.1           Algiers             76.7   \n",
       "3                 2.7  Andorra la Vella              NaN   \n",
       "4                51.6            Luanda             60.8   \n",
       "..                ...               ...              ...   \n",
       "190              21.4           Caracas             72.1   \n",
       "191              16.5  Ho Chi Minh City             75.3   \n",
       "192              42.9             Sanaa             66.1   \n",
       "193              40.4            Lusaka             63.5   \n",
       "194              33.9            Harare             61.2   \n",
       "\n",
       "     maternal_mortality_ratio  minimum_wage official_language  \\\n",
       "0                       638.0          0.43            Pashto   \n",
       "1                        15.0          1.12          Albanian   \n",
       "2                       112.0          0.95            Arabic   \n",
       "3                         NaN          6.63           Catalan   \n",
       "4                       241.0          0.71        Portuguese   \n",
       "..                        ...           ...               ...   \n",
       "190                     125.0          0.01           Spanish   \n",
       "191                      43.0          0.73        Vietnamese   \n",
       "192                     164.0           NaN            Arabic   \n",
       "193                     213.0          0.24           English   \n",
       "194                     458.0           NaN             Shona   \n",
       "\n",
       "     out_of_pocket_health_expenditure  physicians_per_thousand  population  \\\n",
       "0                                78.4                     0.28         NaN   \n",
       "1                                56.9                     1.20         NaN   \n",
       "2                                28.1                     1.72         NaN   \n",
       "3                                36.4                     3.33      77.142   \n",
       "4                                33.4                     0.21         NaN   \n",
       "..                                ...                      ...         ...   \n",
       "190                              45.8                     1.92         NaN   \n",
       "191                              43.5                     0.82         NaN   \n",
       "192                              81.0                     0.31         NaN   \n",
       "193                              27.5                     1.19         NaN   \n",
       "194                              25.8                     0.21         NaN   \n",
       "\n",
       "     population_labor_force_participation  tax_revenue  total_tax_rate  \\\n",
       "0                                    48.9          9.3            71.4   \n",
       "1                                    55.7         18.6            36.6   \n",
       "2                                    41.2         37.2            66.1   \n",
       "3                                     NaN          NaN             NaN   \n",
       "4                                    77.5          9.2            49.1   \n",
       "..                                    ...          ...             ...   \n",
       "190                                  59.7          NaN            73.3   \n",
       "191                                  77.4         19.1            37.6   \n",
       "192                                  38.0          NaN            26.6   \n",
       "193                                  74.6         16.2            15.6   \n",
       "194                                  83.1         20.7            31.6   \n",
       "\n",
       "     unemployment_rate  urban_population   latitude   longitude      continent  \n",
       "0                11.12               NaN  33.939110   67.709953           Asia  \n",
       "1                12.33               NaN  41.153332   20.168331         Europe  \n",
       "2                11.70               NaN  28.033886    1.659626         Africa  \n",
       "3                  NaN            67.873  42.506285    1.521801         Europe  \n",
       "4                 6.89               NaN -11.202692   17.873887         Africa  \n",
       "..                 ...               ...        ...         ...            ...  \n",
       "190               8.80               NaN   6.423750  -66.589730  South America  \n",
       "191               2.01               NaN  14.058324  108.277199           Asia  \n",
       "192              12.91               NaN  15.552727   48.516388           Asia  \n",
       "193              11.43               NaN -13.133897   27.849332         Africa  \n",
       "194               4.95               NaN -19.015438   29.154857         Africa  \n",
       "\n",
       "[195 rows x 36 columns]"
      ]
     },
     "execution_count": 3,
     "metadata": {},
     "output_type": "execute_result"
    }
   ],
   "source": [
    "# Apertura y lectura del archivo csv\n",
    "df_pair7 = pd.read_csv(\"world_data_full_apply_nulos.csv\", index_col = 0)\n",
    "df_pair7"
   ]
  },
  {
   "cell_type": "markdown",
   "metadata": {},
   "source": [
    "¿Cómo se distribuye la tasa de natalidad en el conjunto de datos? ¿Hay algún patrón evidente?\n",
    "\n",
    "¿Existe una relación aparente entre la tasa de mortalidad infantil y la esperanza de vida? Proporciona una breve descripción de los patrones que observes.\n",
    "\n",
    "¿Cuál es el continente con la mayor cantidad de países en el conjunto de datos? Proporciona el porcentaje de países en ese continente.\n",
    "\n",
    "¿Cuál es la mediana de la esperanza de vida en Europa? Proporciona un rango intercuartil aproximado y verifica si existen valores atípicos. s\n",
    "\n",
    "¿Existen relaciones visibles entre la tasa de natalidad y las siguientes variables: tasa de mortalidad infantil, esperanza de vida, densidad de población y población urbana? Usa un subplot. Describe cualquier patrón que encuentres.\n",
    "\n",
    "¿Cuáles son los 10 países con la mayor área forestal?\n",
    "\n",
    "¿Existen diferencias notables en la distribución de la tasa de natalidad entre continentes?\n",
    "\n",
    "¿Cómo se relacionan el CPI y el precio de la gasolina? Crea un scatter plot que muestre esta relación y agrega una línea para visualizar la tendencia. Ajusta los valores del CPI entre 100 y 300.\n",
    "\n",
    "¿Cómo varía la esperanza de vida entre los diferentes países de Oceanía? Utiliza un diagrama de violín para representar la distribución de la esperanza de vida en función del idioma oficial de cada país.\n",
    "\n",
    "\n",
    "Queremos analizar la relación entre la tasa de impuestos total, el PIB per cápita y la tasa de alfabetización. Crea un conjunto de subplots con tres gráficas:\n",
    "\n",
    "Un scatter plot que muestre la relación entre el PIB per cápita y el CPI.\n",
    "\n",
    "Un histograma de la tasa de impuestos total.\n",
    "\n",
    "Un gráfico de barras que resuma la tasa de impuestos total por continente.\n",
    "\n",
    "\n",
    "Requisitos que deben cumplir las gráficas:\n",
    "\n",
    "Todas deben llevar título.\n",
    "\n",
    "Los nombres de los ejes deben estar en castellano.\n",
    "\n",
    "En los scatterplot los puntos deben tener un tamaño de 2.\n",
    "\n",
    "En los scatterplot los puntos deben tener un color diferente al azul.\n",
    "\n",
    "En los barplot las barras siempre tienen que estar ordenadas de mayor a menor.\n",
    "\n",
    "En los barplot y countplot las barras tienen que tener un color diferente a los que vienen por defecto.\n",
    "\n",
    "En los pieplot los quesitos deben tener unos colores diferentes a los que vienen por defecto.\n",
    "\n",
    "En los pieplot siempre tenemos que añadir la etiqueta de a que % corresponde cada quesito.\n",
    "\n",
    "En los pieplot el tamaño de los % tiene que ser de 6."
   ]
  },
  {
   "cell_type": "markdown",
   "metadata": {},
   "source": [
    "1. ¿Cómo se distribuye la tasa de natalidad en el conjunto de datos? ¿Hay algún patrón evidente?"
   ]
  },
  {
   "cell_type": "code",
   "execution_count": 4,
   "metadata": {},
   "outputs": [
    {
     "data": {
      "text/plain": [
       "Index(['country', 'density', 'abbreviation', 'agricultural_land', 'land_area',\n",
       "       'armed_forces_size', 'birth_rate', 'calling_code', 'capital/major_city',\n",
       "       'co2-emissions', 'cpi', 'cpi_change', 'currency-code', 'fertility_rate',\n",
       "       'forested_area', 'gasoline_price', 'gdp',\n",
       "       'gross_primary_education_enrollment',\n",
       "       'gross_tertiary_education_enrollment', 'infant_mortality',\n",
       "       'largest_city', 'life_expectancy', 'maternal_mortality_ratio',\n",
       "       'minimum_wage', 'official_language', 'out_of_pocket_health_expenditure',\n",
       "       'physicians_per_thousand', 'population',\n",
       "       'population_labor_force_participation', 'tax_revenue', 'total_tax_rate',\n",
       "       'unemployment_rate', 'urban_population', 'latitude', 'longitude',\n",
       "       'continent'],\n",
       "      dtype='object')"
      ]
     },
     "execution_count": 4,
     "metadata": {},
     "output_type": "execute_result"
    }
   ],
   "source": [
    "df_pair7.columns"
   ]
  },
  {
   "cell_type": "code",
   "execution_count": 5,
   "metadata": {},
   "outputs": [
    {
     "data": {
      "image/png": "[encoded data removed]",
      "text/plain": [
       "<Figure size 432x288 with 1 Axes>"
      ]
     },
     "metadata": {
      "needs_background": "light"
     },
     "output_type": "display_data"
    }
   ],
   "source": [
    "sns.histplot(x = \"birth_rate\", data = df_pair7, color = \"purple\", kde = True, bins = 15);\n",
    "plt.xlabel(\"Natalidad\")\n",
    "plt.ylabel(\"Cantidad por país\")\n",
    "plt.title(\"Tasa de natalidad por pais\", fontsize = 15)\n",
    "plt.gca().spines[[\"top\", \"right\"]].set_visible(False)"
   ]
  },
  {
   "cell_type": "code",
   "execution_count": 6,
   "metadata": {},
   "outputs": [],
   "source": [
    "# Columnas de variables numéricas\n",
    "# Uso de gráfica: histplot o histograma\n",
    "# Explicación: el histograma muestra la distribución de la tasa de natalidad por país. La mayoría de los países tienen una tasa de natalidad baja, el patrón muestra una lunea descendente, como se indica por la concentración de barras hacia la izquierda del gráfico.\n",
    "# Sin embargo, hay algunos países con tasas de natalidad más altas, como se refleja en las barras hacia la derecha. En general, el patrón revela una prevalencia de tasas de natalidad bajas en la mayoría de los países."
   ]
  },
  {
   "cell_type": "markdown",
   "metadata": {},
   "source": [
    "2. ¿Existe una relación aparente entre la tasa de mortalidad infantil y la esperanza de vida? Proporciona una breve descripción de los patrones que observes."
   ]
  },
  {
   "cell_type": "code",
   "execution_count": 7,
   "metadata": {},
   "outputs": [
    {
     "data": {
      "image/png": "[encoded data removed]",
      "text/plain": [
       "<Figure size 432x288 with 1 Axes>"
      ]
     },
     "metadata": {
      "needs_background": "light"
     },
     "output_type": "display_data"
    }
   ],
   "source": [
    "sns.scatterplot(x = \"infant_mortality\", y = \"life_expectancy\", data = df_pair7, color = \"turquoise\", s = 20)\n",
    "plt.ylabel(\"Esperanza de vida\")\n",
    "plt.xlabel(\"Tasa de mortalidad infantil\")\n",
    "plt.title(\"Relación entre la tasa de mortalidad infantil y la esperanza de vida\", fontsize = 10);"
   ]
  },
  {
   "cell_type": "code",
   "execution_count": 8,
   "metadata": {},
   "outputs": [],
   "source": [
    "# Columnas numericas y continuas\n",
    "# Uso de gráfica: scatterplot o gráfico de dispersión\n",
    "# Explicación: El gráfico de dispersión muestra una relación negativa entre la tasa de mortalidad infantil y la esperanza de vida en diferentes países. Se observa que a medida que la tasa de mortalidad infantil disminuye (linea de tendencia descendete), la esperanza de vida tiende a aumentar. Esto sugiere que los países con una menor tasa de mortalidad infantil suelen tener una esperanza de vida más alta, lo que puede asociarse con un mayor desarrollo y mejores condiciones de vida.\n",
    "# En resumen, el gráfico destaca la importancia de abordar la mortalidad infantil como un indicador significativo de la salud y el desarrollo de un país, y cómo está vinculada a la esperanza de vida de su población."
   ]
  },
  {
   "cell_type": "markdown",
   "metadata": {},
   "source": [
    "3. ¿Cuál es el continente con la mayor cantidad de países en el conjunto de datos? Proporciona el porcentaje de países en ese continente?"
   ]
  },
  {
   "cell_type": "code",
   "execution_count": 9,
   "metadata": {},
   "outputs": [
    {
     "data": {
      "text/html": [
       "<div>\n",
       "<style scoped>\n",
       "    .dataframe tbody tr th:only-of-type {\n",
       "        vertical-align: middle;\n",
       "    }\n",
       "\n",
       "    .dataframe tbody tr th {\n",
       "        vertical-align: top;\n",
       "    }\n",
       "\n",
       "    .dataframe thead th {\n",
       "        text-align: right;\n",
       "    }\n",
       "</style>\n",
       "<table border=\"1\" class=\"dataframe\">\n",
       "  <thead>\n",
       "    <tr style=\"text-align: right;\">\n",
       "      <th></th>\n",
       "      <th>continent</th>\n",
       "      <th>country</th>\n",
       "    </tr>\n",
       "  </thead>\n",
       "  <tbody>\n",
       "    <tr>\n",
       "      <th>0</th>\n",
       "      <td>Africa</td>\n",
       "      <td>53</td>\n",
       "    </tr>\n",
       "    <tr>\n",
       "      <th>1</th>\n",
       "      <td>Asia</td>\n",
       "      <td>45</td>\n",
       "    </tr>\n",
       "    <tr>\n",
       "      <th>2</th>\n",
       "      <td>Central America</td>\n",
       "      <td>20</td>\n",
       "    </tr>\n",
       "    <tr>\n",
       "      <th>3</th>\n",
       "      <td>Europe</td>\n",
       "      <td>47</td>\n",
       "    </tr>\n",
       "    <tr>\n",
       "      <th>4</th>\n",
       "      <td>North America</td>\n",
       "      <td>2</td>\n",
       "    </tr>\n",
       "    <tr>\n",
       "      <th>5</th>\n",
       "      <td>Oceania</td>\n",
       "      <td>14</td>\n",
       "    </tr>\n",
       "    <tr>\n",
       "      <th>6</th>\n",
       "      <td>South America</td>\n",
       "      <td>13</td>\n",
       "    </tr>\n",
       "  </tbody>\n",
       "</table>\n",
       "</div>"
      ],
      "text/plain": [
       "         continent  country\n",
       "0           Africa       53\n",
       "1             Asia       45\n",
       "2  Central America       20\n",
       "3           Europe       47\n",
       "4    North America        2\n",
       "5          Oceania       14\n",
       "6    South America       13"
      ]
     },
     "execution_count": 9,
     "metadata": {},
     "output_type": "execute_result"
    }
   ],
   "source": [
    "paisporcontinente = df_pair7.groupby(\"continent\")[\"country\"].count().reset_index()\n",
    "paisporcontinente"
   ]
  },
  {
   "cell_type": "code",
   "execution_count": 10,
   "metadata": {},
   "outputs": [
    {
     "data": {
      "image/png": "[encoded data removed]",
      "text/plain": [
       "<Figure size 432x288 with 1 Axes>"
      ]
     },
     "metadata": {},
     "output_type": "display_data"
    }
   ],
   "source": [
    "colores = [\"seagreen\", \"teal\"]\n",
    "\n",
    "plt.pie(\"country\", labels= \"continent\", \n",
    "        data = paisporcontinente, \n",
    "        autopct=  '%1.1f%%', \n",
    "        colors = colores, \n",
    "        textprops={'fontsize': 8,\"color\": \"white\"}, \n",
    "        startangle=90)\n",
    "\n",
    "plt.title(\"Porcentaje de paises según el continente\", fontsize = 10, color=\"white\");"
   ]
  },
  {
   "cell_type": "code",
   "execution_count": 11,
   "metadata": {},
   "outputs": [],
   "source": [
    "# Columna numérica y categórica\n",
    "# Uso de gráfica: Pieplot o gráfico de quesitos\n",
    "# Explicación: El gráfico de pastel muestra el porcentaje de países según el continente al que pertenecen. Se observa que los continentes de África, Asia y Europa tienen un mayor número de países en comparación con los demás continentes.\n",
    "# Esto sugiere una distribución desigual de países entre los continentes, con una concentración notable en estos tres continentes en particular."
   ]
  },
  {
   "cell_type": "markdown",
   "metadata": {},
   "source": [
    "4. ¿Cuál es la mediana de la esperanza de vida en Europa? Proporciona un rango intercuartil aproximado y verifica si existen valores atípicos."
   ]
  },
  {
   "cell_type": "code",
   "execution_count": 12,
   "metadata": {},
   "outputs": [
    {
     "data": {
      "image/png": "[encoded data removed]",
      "text/plain": [
       "<Figure size 432x288 with 1 Axes>"
      ]
     },
     "metadata": {
      "needs_background": "light"
     },
     "output_type": "display_data"
    }
   ],
   "source": [
    "sns.boxplot(x = \"life_expectancy\", data = df_pair7[df_pair7[\"continent\"] == \"Europe\"])\n",
    "\n",
    "plt.xlabel(\"Esperanza de vida\")\n",
    "plt.title(\"Esperanza de vida en Europe\", fontsize = 10);"
   ]
  },
  {
   "cell_type": "code",
   "execution_count": 13,
   "metadata": {},
   "outputs": [],
   "source": [
    "# Uso de gráfica: Boxplot o gráfico de caja\n",
    "# Explicación: El gráfico de caja muestra la distribución de la esperanza de vida en Europa. Proporciona una representación visual de la mediana, los cuartiles y los valores atípicos de la esperanza de vida en los países europeos.\n",
    "# Este tipo de gráfico permite identificar rápidamente la dispersión y la tendencia central de los datos."
   ]
  },
  {
   "cell_type": "markdown",
   "metadata": {},
   "source": [
    "5. ¿Existen relaciones visibles entre la tasa de natalidad y las siguientes variables: tasa de mortalidad infantil, esperanza de vida, densidad de población y población urbana? Usa un subplot. Describe cualquier patrón que encuentres."
   ]
  },
  {
   "cell_type": "code",
   "execution_count": 14,
   "metadata": {},
   "outputs": [
    {
     "data": {
      "image/png": "[encoded data removed]",
      "text/plain": [
       "<Figure size 1440x360 with 4 Axes>"
      ]
     },
     "metadata": {
      "needs_background": "light"
     },
     "output_type": "display_data"
    }
   ],
   "source": [
    "fig, axes = plt.subplots(nrows = 1, ncols = 4, figsize = (20, 5))\n",
    "\n",
    "sns.scatterplot(x = \"infant_mortality\", y = \"birth_rate\", data = df_pair7, color = \"turquoise\", s = 20, ax = axes[0])\n",
    "axes[0].set_ylabel(\"Tasa de natalidad\")\n",
    "axes[0].set_xlabel(\"Tasa de mortalidad infantil\")\n",
    "axes[0].set_title(\"Relación entre la tasa de natalidad y la tasa de mortildad infantil\", fontsize = 10);\n",
    "\n",
    "sns.scatterplot(x = \"life_expectancy\", y = \"birth_rate\", data = df_pair7, color = \"red\", s = 20, ax = axes[1])\n",
    "axes[0].set_ylabel(\"Tasa de natalidad\")\n",
    "axes[0].set_xlabel(\"Esperanza de vida\")\n",
    "axes[0].set_title(\"Relación entre la tasa de natalidad y la tasa de vida\", fontsize = 10);\n",
    "\n",
    "sns.scatterplot(x = \"density\", y = \"birth_rate\", data = df_pair7, color = \"purple\", s = 20, ax = axes[2])\n",
    "axes[0].set_ylabel(\"Tasa de natalidad\")\n",
    "axes[0].set_xlabel(\"Densidad de población\")\n",
    "axes[0].set_title(\"Relación entre la tasa de natalidad y la densidad de población\", fontsize = 10);\n",
    "\n",
    "sns.scatterplot(x = \"urban_population\", y = \"birth_rate\", data = df_pair7, color = \"orange\", s = 20, ax = axes[3])\n",
    "axes[0].set_ylabel(\"Tasa de natalidad\")\n",
    "axes[0].set_xlabel(\"Población urbana\")\n",
    "axes[0].set_title(\"Relación entre la tasa de natalidad y la población urbana\", fontsize = 10);"
   ]
  },
  {
   "cell_type": "code",
   "execution_count": 15,
   "metadata": {},
   "outputs": [],
   "source": [
    "# Uso de graficas: scatterplot o gráfico de dispersión\n",
    "# Explicación:\n",
    "# 1. Tasa de mortalidad infantil vs Tasa de natalidad: Es probable que veamos una relación negativa entre estas dos variables, ya que los países con una alta tasa de mortalidad infantil tienden a tener una tasa de natalidad más alta.\n",
    "# 2. Esperanza de vida vs Tasa de natalidad: Podemos esperar una relación negativa, ya que los países con una alta esperanza de vida suelen tener una tasa de natalidad más baja, y viceversa.\n",
    "# 3. Densidad de población vs Tasa de natalidad: Aquí podríamos observar diferentes patrones dependiendo de la distribución de la población. En general, podríamos esperar una relación positiva, ya que en áreas densamente pobladas, es posible que las personas tengan más hijos debido a la disponibilidad de recursos y oportunidades económicas.\n",
    "# 4. Población urbana vs Tasa de natalidad: Podemos esperar una relación negativa, ya que los países con una mayor proporción de población urbana tienden a tener una tasa de natalidad más baja debido a factores como la urbanización, el acceso a servicios de salud y educación, y la planificación familiar."
   ]
  },
  {
   "cell_type": "markdown",
   "metadata": {},
   "source": [
    "6. ¿Cuáles son los 10 países con la mayor área forestal?"
   ]
  },
  {
   "cell_type": "code",
   "execution_count": 16,
   "metadata": {},
   "outputs": [
    {
     "data": {
      "text/plain": [
       "167                          Suriname\n",
       "111    Federated States of Micronesia\n",
       "61                              Gabon\n",
       "154                        Seychelles\n",
       "132                             Palau\n",
       "71                             Guyana\n",
       "92                               Laos\n",
       "159                   Solomon Islands\n",
       "135                  Papua New Guinea\n",
       "59                            Finland\n",
       "Name: country, dtype: object"
      ]
     },
     "execution_count": 16,
     "metadata": {},
     "output_type": "execute_result"
    }
   ],
   "source": [
    "top_10_area = df_pair7.nlargest(10, \"forested_area\")[\"country\"]\n",
    "top_10_area"
   ]
  },
  {
   "cell_type": "markdown",
   "metadata": {},
   "source": [
    "7. ¿Existen diferencias notables en la distribución de la tasa de natalidad entre continentes?"
   ]
  },
  {
   "cell_type": "code",
   "execution_count": 17,
   "metadata": {},
   "outputs": [
    {
     "data": {
      "image/png": "[encoded data removed]",
      "text/plain": [
       "<Figure size 720x432 with 1 Axes>"
      ]
     },
     "metadata": {
      "needs_background": "light"
     },
     "output_type": "display_data"
    }
   ],
   "source": [
    "plt.figure(figsize=(10, 6))\n",
    "sns.boxplot(x = \"birth_rate\", y=\"continent\", data = df_pair7, palette=\"Set2\")\n",
    "plt.title('Distribución de la tasa de natalidad por continente')\n",
    "plt.xlabel(\"Continent\")\n",
    "plt.title(\"Tasa de natalidad\", fontsize = 10);"
   ]
  },
  {
   "cell_type": "code",
   "execution_count": 18,
   "metadata": {},
   "outputs": [],
   "source": [
    "# Uso de gráfica: Boxplot o gráfico de caja\n",
    "\n",
    "# Sí, existen diferencias notables en la distribución de la tasa de natalidad entre continentes, como se observa en el gráfico de caja. Cada continente muestra una distribución diferente de la tasa de natalidad, con variaciones en la mediana, la dispersión de los datos y la presencia de valores atípicos.\n",
    "# Por ejemplo, África y Asia muestran una distribución más amplia y una mayor variabilidad en la tasa de natalidad, con algunos países que tienen tasas muy altas. En contraste, Europa tienen una distribución más estrecha, con una mediana ligeramente más baja y menos valores atípicos.\n",
    "# Estas diferencias sugieren que factores como el desarrollo económico, el acceso a la atención médica, la educación y las políticas de planificación familiar pueden influir en la tasa de natalidad y varían significativamente entre los continentes."
   ]
  },
  {
   "cell_type": "markdown",
   "metadata": {},
   "source": [
    "8. ¿Cómo se relacionan el CPI y el precio de la gasolina? Crea un scatter plot que muestre esta relación y agrega una línea para visualizar la tendencia. Ajusta los valores del CPI entre 100 y 300."
   ]
  },
  {
   "cell_type": "code",
   "execution_count": 19,
   "metadata": {},
   "outputs": [
    {
     "data": {
      "image/png": "[encoded data removed]",
      "text/plain": [
       "<Figure size 720x432 with 1 Axes>"
      ]
     },
     "metadata": {
      "needs_background": "light"
     },
     "output_type": "display_data"
    }
   ],
   "source": [
    "# Valores del CPI entre 100 y 300\n",
    "df_pair7_cpi = df_pair7[(df_pair7['cpi'] >= 100) & (df_pair7['cpi'] <= 300)]\n",
    "\n",
    "# Crear figura y subplot\n",
    "plt.figure(figsize = (10, 6))\n",
    "sns.scatterplot(x = \"cpi\", y = \"gasoline_price\", data = df_pair7, color = \"orange\")\n",
    "sns.regplot(x=\"cpi\", y=\"gasoline_price\", data=df_pair7_cpi, scatter=False, color=\"red\") # Agrega una línea de regresión \n",
    "# Configurar etiquetas y título\n",
    "plt.ylabel(\"Indice de precios al consumidor(CPI)\")\n",
    "plt.xlabel(\"Precio de la gasolina\")\n",
    "plt.title(\"Relación entre el CPI y e precio de la gasolina\", fontsize = 10);"
   ]
  },
  {
   "cell_type": "code",
   "execution_count": 20,
   "metadata": {},
   "outputs": [],
   "source": [
    "# Uso de gráfica: scatterplot o gráfico de dispersión\n",
    "# Explicación: El gráfico de dispersión muestra la relación entre el Índice de Precios al Consumidor (CPI) y el precio de la gasolina. La línea roja representa la tendencia general de esta relación. Si la línea tiene una pendiente positiva, indica que a medida que el CPI aumenta, también lo hace el precio de la gasolina. Por el contrario, una pendiente negativa indica que a medida que el CPI aumenta, el precio de la gasolina tiende a disminuir. La línea de tendencia nos ayuda a identificar patrones o tendencias en los datos y a entender la dirección de la relación entre estas dos variables económicas clave."
   ]
  },
  {
   "cell_type": "markdown",
   "metadata": {},
   "source": [
    "9. ¿Cómo varía la esperanza de vida entre los diferentes países de Oceanía? Utiliza un diagrama de violín para representar la distribución de la esperanza de vida en función del idioma oficial de cada país."
   ]
  },
  {
   "cell_type": "code",
   "execution_count": 21,
   "metadata": {},
   "outputs": [
    {
     "ename": "ValueError",
     "evalue": "min() arg is an empty sequence",
     "output_type": "error",
     "traceback": [
      "\u001b[0;31m---------------------------------------------------------------------------\u001b[0m",
      "\u001b[0;31mValueError\u001b[0m                                Traceback (most recent call last)",
      "Input \u001b[0;32mIn [21]\u001b[0m, in \u001b[0;36m<cell line: 2>\u001b[0;34m()\u001b[0m\n\u001b[1;32m      1\u001b[0m plt\u001b[38;5;241m.\u001b[39mfigure(figsize\u001b[38;5;241m=\u001b[39m(\u001b[38;5;241m10\u001b[39m, \u001b[38;5;241m6\u001b[39m))\n\u001b[0;32m----> 2\u001b[0m \u001b[43msns\u001b[49m\u001b[38;5;241;43m.\u001b[39;49m\u001b[43mviolinplot\u001b[49m\u001b[43m(\u001b[49m\u001b[43mdata\u001b[49m\u001b[38;5;241;43m=\u001b[39;49m\u001b[43mdf_pair7\u001b[49m\u001b[43m[\u001b[49m\u001b[43mdf_pair7\u001b[49m\u001b[43m[\u001b[49m\u001b[38;5;124;43m'\u001b[39;49m\u001b[38;5;124;43mcontinent\u001b[39;49m\u001b[38;5;124;43m'\u001b[39;49m\u001b[43m]\u001b[49m\u001b[43m \u001b[49m\u001b[38;5;241;43m==\u001b[39;49m\u001b[43m \u001b[49m\u001b[38;5;124;43m'\u001b[39;49m\u001b[38;5;124;43mOceanía\u001b[39;49m\u001b[38;5;124;43m'\u001b[39;49m\u001b[43m]\u001b[49m\u001b[43m,\u001b[49m\u001b[43m \u001b[49m\u001b[43mx\u001b[49m\u001b[38;5;241;43m=\u001b[39;49m\u001b[38;5;124;43m'\u001b[39;49m\u001b[38;5;124;43mofficial_language\u001b[39;49m\u001b[38;5;124;43m'\u001b[39;49m\u001b[43m,\u001b[49m\u001b[43m \u001b[49m\u001b[43my\u001b[49m\u001b[38;5;241;43m=\u001b[39;49m\u001b[38;5;124;43m'\u001b[39;49m\u001b[38;5;124;43mlife_expectancy\u001b[39;49m\u001b[38;5;124;43m'\u001b[39;49m\u001b[43m,\u001b[49m\u001b[43m \u001b[49m\u001b[43mpalette\u001b[49m\u001b[38;5;241;43m=\u001b[39;49m\u001b[38;5;124;43m'\u001b[39;49m\u001b[38;5;124;43mSet3\u001b[39;49m\u001b[38;5;124;43m'\u001b[39;49m\u001b[43m)\u001b[49m\n\u001b[1;32m      3\u001b[0m plt\u001b[38;5;241m.\u001b[39mtitle(\u001b[38;5;124m\"\u001b[39m\u001b[38;5;124mVariación de la esperanza de vida en Oceanía por idioma oficial\u001b[39m\u001b[38;5;124m\"\u001b[39m)\n\u001b[1;32m      4\u001b[0m plt\u001b[38;5;241m.\u001b[39mxlabel(\u001b[38;5;124m\"\u001b[39m\u001b[38;5;124mIdioma oficial\u001b[39m\u001b[38;5;124m\"\u001b[39m)\n",
      "File \u001b[0;32m~/anaconda3/lib/python3.9/site-packages/seaborn/_decorators.py:46\u001b[0m, in \u001b[0;36m_deprecate_positional_args.<locals>.inner_f\u001b[0;34m(*args, **kwargs)\u001b[0m\n\u001b[1;32m     36\u001b[0m     warnings\u001b[38;5;241m.\u001b[39mwarn(\n\u001b[1;32m     37\u001b[0m         \u001b[38;5;124m\"\u001b[39m\u001b[38;5;124mPass the following variable\u001b[39m\u001b[38;5;132;01m{}\u001b[39;00m\u001b[38;5;124m as \u001b[39m\u001b[38;5;132;01m{}\u001b[39;00m\u001b[38;5;124mkeyword arg\u001b[39m\u001b[38;5;132;01m{}\u001b[39;00m\u001b[38;5;124m: \u001b[39m\u001b[38;5;132;01m{}\u001b[39;00m\u001b[38;5;124m. \u001b[39m\u001b[38;5;124m\"\u001b[39m\n\u001b[1;32m     38\u001b[0m         \u001b[38;5;124m\"\u001b[39m\u001b[38;5;124mFrom version 0.12, the only valid positional argument \u001b[39m\u001b[38;5;124m\"\u001b[39m\n\u001b[0;32m   (...)\u001b[0m\n\u001b[1;32m     43\u001b[0m         \u001b[38;5;167;01mFutureWarning\u001b[39;00m\n\u001b[1;32m     44\u001b[0m     )\n\u001b[1;32m     45\u001b[0m kwargs\u001b[38;5;241m.\u001b[39mupdate({k: arg \u001b[38;5;28;01mfor\u001b[39;00m k, arg \u001b[38;5;129;01min\u001b[39;00m \u001b[38;5;28mzip\u001b[39m(sig\u001b[38;5;241m.\u001b[39mparameters, args)})\n\u001b[0;32m---> 46\u001b[0m \u001b[38;5;28;01mreturn\u001b[39;00m \u001b[43mf\u001b[49m\u001b[43m(\u001b[49m\u001b[38;5;241;43m*\u001b[39;49m\u001b[38;5;241;43m*\u001b[39;49m\u001b[43mkwargs\u001b[49m\u001b[43m)\u001b[49m\n",
      "File \u001b[0;32m~/anaconda3/lib/python3.9/site-packages/seaborn/categorical.py:2400\u001b[0m, in \u001b[0;36mviolinplot\u001b[0;34m(x, y, hue, data, order, hue_order, bw, cut, scale, scale_hue, gridsize, width, inner, split, dodge, orient, linewidth, color, palette, saturation, ax, **kwargs)\u001b[0m\n\u001b[1;32m   2388\u001b[0m \u001b[38;5;129m@_deprecate_positional_args\u001b[39m\n\u001b[1;32m   2389\u001b[0m \u001b[38;5;28;01mdef\u001b[39;00m \u001b[38;5;21mviolinplot\u001b[39m(\n\u001b[1;32m   2390\u001b[0m     \u001b[38;5;241m*\u001b[39m,\n\u001b[0;32m   (...)\u001b[0m\n\u001b[1;32m   2397\u001b[0m     ax\u001b[38;5;241m=\u001b[39m\u001b[38;5;28;01mNone\u001b[39;00m, \u001b[38;5;241m*\u001b[39m\u001b[38;5;241m*\u001b[39mkwargs,\n\u001b[1;32m   2398\u001b[0m ):\n\u001b[0;32m-> 2400\u001b[0m     plotter \u001b[38;5;241m=\u001b[39m \u001b[43m_ViolinPlotter\u001b[49m\u001b[43m(\u001b[49m\u001b[43mx\u001b[49m\u001b[43m,\u001b[49m\u001b[43m \u001b[49m\u001b[43my\u001b[49m\u001b[43m,\u001b[49m\u001b[43m \u001b[49m\u001b[43mhue\u001b[49m\u001b[43m,\u001b[49m\u001b[43m \u001b[49m\u001b[43mdata\u001b[49m\u001b[43m,\u001b[49m\u001b[43m \u001b[49m\u001b[43morder\u001b[49m\u001b[43m,\u001b[49m\u001b[43m \u001b[49m\u001b[43mhue_order\u001b[49m\u001b[43m,\u001b[49m\n\u001b[1;32m   2401\u001b[0m \u001b[43m                             \u001b[49m\u001b[43mbw\u001b[49m\u001b[43m,\u001b[49m\u001b[43m \u001b[49m\u001b[43mcut\u001b[49m\u001b[43m,\u001b[49m\u001b[43m \u001b[49m\u001b[43mscale\u001b[49m\u001b[43m,\u001b[49m\u001b[43m \u001b[49m\u001b[43mscale_hue\u001b[49m\u001b[43m,\u001b[49m\u001b[43m \u001b[49m\u001b[43mgridsize\u001b[49m\u001b[43m,\u001b[49m\n\u001b[1;32m   2402\u001b[0m \u001b[43m                             \u001b[49m\u001b[43mwidth\u001b[49m\u001b[43m,\u001b[49m\u001b[43m \u001b[49m\u001b[43minner\u001b[49m\u001b[43m,\u001b[49m\u001b[43m \u001b[49m\u001b[43msplit\u001b[49m\u001b[43m,\u001b[49m\u001b[43m \u001b[49m\u001b[43mdodge\u001b[49m\u001b[43m,\u001b[49m\u001b[43m \u001b[49m\u001b[43morient\u001b[49m\u001b[43m,\u001b[49m\u001b[43m \u001b[49m\u001b[43mlinewidth\u001b[49m\u001b[43m,\u001b[49m\n\u001b[1;32m   2403\u001b[0m \u001b[43m                             \u001b[49m\u001b[43mcolor\u001b[49m\u001b[43m,\u001b[49m\u001b[43m \u001b[49m\u001b[43mpalette\u001b[49m\u001b[43m,\u001b[49m\u001b[43m \u001b[49m\u001b[43msaturation\u001b[49m\u001b[43m)\u001b[49m\n\u001b[1;32m   2405\u001b[0m     \u001b[38;5;28;01mif\u001b[39;00m ax \u001b[38;5;129;01mis\u001b[39;00m \u001b[38;5;28;01mNone\u001b[39;00m:\n\u001b[1;32m   2406\u001b[0m         ax \u001b[38;5;241m=\u001b[39m plt\u001b[38;5;241m.\u001b[39mgca()\n",
      "File \u001b[0;32m~/anaconda3/lib/python3.9/site-packages/seaborn/categorical.py:523\u001b[0m, in \u001b[0;36m_ViolinPlotter.__init__\u001b[0;34m(self, x, y, hue, data, order, hue_order, bw, cut, scale, scale_hue, gridsize, width, inner, split, dodge, orient, linewidth, color, palette, saturation)\u001b[0m\n\u001b[1;32m    517\u001b[0m \u001b[38;5;28;01mdef\u001b[39;00m \u001b[38;5;21m__init__\u001b[39m(\u001b[38;5;28mself\u001b[39m, x, y, hue, data, order, hue_order,\n\u001b[1;32m    518\u001b[0m              bw, cut, scale, scale_hue, gridsize,\n\u001b[1;32m    519\u001b[0m              width, inner, split, dodge, orient, linewidth,\n\u001b[1;32m    520\u001b[0m              color, palette, saturation):\n\u001b[1;32m    522\u001b[0m     \u001b[38;5;28mself\u001b[39m\u001b[38;5;241m.\u001b[39mestablish_variables(x, y, hue, data, orient, order, hue_order)\n\u001b[0;32m--> 523\u001b[0m     \u001b[38;5;28;43mself\u001b[39;49m\u001b[38;5;241;43m.\u001b[39;49m\u001b[43mestablish_colors\u001b[49m\u001b[43m(\u001b[49m\u001b[43mcolor\u001b[49m\u001b[43m,\u001b[49m\u001b[43m \u001b[49m\u001b[43mpalette\u001b[49m\u001b[43m,\u001b[49m\u001b[43m \u001b[49m\u001b[43msaturation\u001b[49m\u001b[43m)\u001b[49m\n\u001b[1;32m    524\u001b[0m     \u001b[38;5;28mself\u001b[39m\u001b[38;5;241m.\u001b[39mestimate_densities(bw, cut, scale, scale_hue, gridsize)\n\u001b[1;32m    526\u001b[0m     \u001b[38;5;28mself\u001b[39m\u001b[38;5;241m.\u001b[39mgridsize \u001b[38;5;241m=\u001b[39m gridsize\n",
      "File \u001b[0;32m~/anaconda3/lib/python3.9/site-packages/seaborn/categorical.py:319\u001b[0m, in \u001b[0;36m_CategoricalPlotter.establish_colors\u001b[0;34m(self, color, palette, saturation)\u001b[0m\n\u001b[1;32m    317\u001b[0m \u001b[38;5;66;03m# Determine the gray color to use for the lines framing the plot\u001b[39;00m\n\u001b[1;32m    318\u001b[0m light_vals \u001b[38;5;241m=\u001b[39m [colorsys\u001b[38;5;241m.\u001b[39mrgb_to_hls(\u001b[38;5;241m*\u001b[39mc)[\u001b[38;5;241m1\u001b[39m] \u001b[38;5;28;01mfor\u001b[39;00m c \u001b[38;5;129;01min\u001b[39;00m rgb_colors]\n\u001b[0;32m--> 319\u001b[0m lum \u001b[38;5;241m=\u001b[39m \u001b[38;5;28;43mmin\u001b[39;49m\u001b[43m(\u001b[49m\u001b[43mlight_vals\u001b[49m\u001b[43m)\u001b[49m \u001b[38;5;241m*\u001b[39m \u001b[38;5;241m.6\u001b[39m\n\u001b[1;32m    320\u001b[0m gray \u001b[38;5;241m=\u001b[39m mpl\u001b[38;5;241m.\u001b[39mcolors\u001b[38;5;241m.\u001b[39mrgb2hex((lum, lum, lum))\n\u001b[1;32m    322\u001b[0m \u001b[38;5;66;03m# Assign object attributes\u001b[39;00m\n",
      "\u001b[0;31mValueError\u001b[0m: min() arg is an empty sequence"
     ]
    },
    {
     "data": {
      "text/plain": [
       "<Figure size 720x432 with 0 Axes>"
      ]
     },
     "metadata": {},
     "output_type": "display_data"
    }
   ],
   "source": [
    "plt.figure(figsize=(10, 6))\n",
    "sns.violinplot(data=df_pair7[df_pair7['continent'] == 'Oceanía'], x='official_language', y='life_expectancy', palette='Set3')\n",
    "plt.title(\"Variación de la esperanza de vida en Oceanía por idioma oficial\")\n",
    "plt.xlabel(\"Idioma oficial\")\n",
    "plt.ylabel(\"Esperanza de vida\")"
   ]
  },
  {
   "cell_type": "code",
   "execution_count": 22,
   "metadata": {},
   "outputs": [],
   "source": [
    "# Uso de gráfica: violinplot\n",
    "# Explicación: "
   ]
  },
  {
   "cell_type": "markdown",
   "metadata": {},
   "source": [
    "10. Queremos analizar la relación entre la tasa de impuestos total, el PIB per cápita y la tasa de alfabetización. Crea un conjunto de subplots con tres gráficas:\n",
    "\n",
    "- Un scatter plot que muestre la relación entre el PIB per cápita y el CPI.\n",
    "\n",
    "- Un histograma de la tasa de impuestos total.\n",
    "\n",
    "- Un gráfico de barras que resuma la tasa de impuestos total por continente."
   ]
  },
  {
   "cell_type": "code",
   "execution_count": 23,
   "metadata": {},
   "outputs": [
    {
     "data": {
      "text/plain": [
       "Index(['country', 'density', 'abbreviation', 'agricultural_land', 'land_area',\n",
       "       'armed_forces_size', 'birth_rate', 'calling_code', 'capital/major_city',\n",
       "       'co2-emissions', 'cpi', 'cpi_change', 'currency-code', 'fertility_rate',\n",
       "       'forested_area', 'gasoline_price', 'gdp',\n",
       "       'gross_primary_education_enrollment',\n",
       "       'gross_tertiary_education_enrollment', 'infant_mortality',\n",
       "       'largest_city', 'life_expectancy', 'maternal_mortality_ratio',\n",
       "       'minimum_wage', 'official_language', 'out_of_pocket_health_expenditure',\n",
       "       'physicians_per_thousand', 'population',\n",
       "       'population_labor_force_participation', 'tax_revenue', 'total_tax_rate',\n",
       "       'unemployment_rate', 'urban_population', 'latitude', 'longitude',\n",
       "       'continent'],\n",
       "      dtype='object')"
      ]
     },
     "execution_count": 23,
     "metadata": {},
     "output_type": "execute_result"
    }
   ],
   "source": [
    "df_pair7.columns"
   ]
  },
  {
   "cell_type": "code",
   "execution_count": 26,
   "metadata": {},
   "outputs": [
    {
     "data": {
      "text/plain": [
       "Text(0, 0.5, 'Tasa de impuestos total')"
      ]
     },
     "execution_count": 26,
     "metadata": {},
     "output_type": "execute_result"
    },
    {
     "data": {
      "image/png": "[encoded data removed]",
      "text/plain": [
       "<Figure size 1152x432 with 3 Axes>"
      ]
     },
     "metadata": {
      "needs_background": "light"
     },
     "output_type": "display_data"
    }
   ],
   "source": [
    "plt.figure(figsize=(16, 6))\n",
    "\n",
    "plt.subplot(1, 3, 1)\n",
    "sns.scatterplot(data=df_pair7, x=\"gdp\", y=\"cpi\", color=\"green\", s=2)\n",
    "plt.title(\"Relación entre el PIB per cápita y el CPI\")\n",
    "plt.xlabel(\"PIB per cápita\")\n",
    "plt.ylabel(\"CPI\")\n",
    "\n",
    "plt.subplot(1, 3, 2)\n",
    "sns.histplot(df_pair7[\"total_tax_rate\"], bins=20, color=\"orange\")\n",
    "plt.title(\"Histograma de la tasa de impuestos total\")\n",
    "plt.xlabel(\"Tasa de impuestos total\")\n",
    "plt.ylabel(\"Frecuencia\")\n",
    "\n",
    "plt.subplot(1, 3, 3)\n",
    "sns.barplot(data=df_pair7, x=\"continent\", y=\"total_tax_rate\", color=\"purple\")\n",
    "plt.title(\"Tasa de impuestos total por continente\")\n",
    "plt.xlabel(\"Continente\")\n",
    "plt.ylabel(\"Tasa de impuestos total\")"
   ]
  },
  {
   "cell_type": "code",
   "execution_count": 25,
   "metadata": {},
   "outputs": [],
   "source": [
    "# Uso de gráficas: scatterplot, histograma y barplot\n",
    "# Explicación:"
   ]
  }
 ],
 "metadata": {
  "kernelspec": {
   "display_name": "base",
   "language": "python",
   "name": "python3"
  },
  "language_info": {
   "codemirror_mode": {
    "name": "ipython",
    "version": 3
   },
   "file_extension": ".py",
   "mimetype": "text/x-python",
   "name": "python",
   "nbconvert_exporter": "python",
   "pygments_lexer": "ipython3",
   "version": "3.9.12"
  }
 },
 "nbformat": 4,
 "nbformat_minor": 2
}
