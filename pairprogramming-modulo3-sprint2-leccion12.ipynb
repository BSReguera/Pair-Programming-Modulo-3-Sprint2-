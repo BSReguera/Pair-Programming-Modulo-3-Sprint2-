{
 "cells": [
  {
   "cell_type": "markdown",
   "metadata": {},
   "source": [
    "# PAIR PROGRAMMING - MODULO 3 - LECCION 12- ETL II"
   ]
  },
  {
   "cell_type": "markdown",
   "metadata": {},
   "source": [
    "Ejercicios ETL Parte II\n",
    "\n",
    "Los pasos del ejercicio son:"
   ]
  },
  {
   "cell_type": "markdown",
   "metadata": {},
   "source": [
    "1. Creación de la Base de Datos:\n",
    "\n",
    "- Utilizar MySQL para crear una base de datos vacía.\n",
    "\n",
    "- Definir la estructura de la base de datos: esquemas de tablas, relaciones entre ellas, etc."
   ]
  },
  {
   "cell_type": "code",
   "execution_count": null,
   "metadata": {},
   "outputs": [],
   "source": []
  },
  {
   "cell_type": "markdown",
   "metadata": {},
   "source": [
    "2. Carga de Datos en la Base de Datos:\n",
    "\n",
    "- Utilizar Python + SQL para insertar los datos transformados el día anterior."
   ]
  },
  {
   "cell_type": "code",
   "execution_count": null,
   "metadata": {},
   "outputs": [],
   "source": []
  }
 ],
 "metadata": {
  "language_info": {
   "name": "python"
  }
 },
 "nbformat": 4,
 "nbformat_minor": 2
}
